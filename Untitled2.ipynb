{
 "cells": [
  {
   "cell_type": "code",
   "execution_count": 1,
   "id": "4b9c042f-b412-4285-af54-9142ef54fdce",
   "metadata": {},
   "outputs": [],
   "source": [
    "import pandas as pd\n",
    "import matplotlib.pyplot as plt\n",
    "from surprise import Dataset, Reader, SVD\n",
    "from surprise.model_selection import train_test_split\n"
   ]
  },
  {
   "cell_type": "code",
   "execution_count": null,
   "id": "1ef377e2-3783-4e6f-9e40-6f6f8e86315f",
   "metadata": {},
   "outputs": [],
   "source": [
    "# Creating the data\n",
    "data = {\n",
    "    'user_id': ['U1', 'U1', 'U1', 'U2', 'U2', 'U3', 'U3', 'U3', 'U3'],\n",
    "    'item_id': ['I1', 'I2', 'I3', 'I1', 'I2', 'I2', 'I3', 'I4', 'I5'],\n",
    "    'rating': [5, 3, 4, 4, 2, 2, 4, 5, 3]\n",
    "}\n",
    "\n",
    "df = pd.DataFrame(data)\n",
    "df\n"
   ]
  },
  {
   "cell_type": "code",
   "execution_count": 2,
   "id": "d5753bb2-c0e9-4e96-9b9a-87d6b169a256",
   "metadata": {},
   "outputs": [],
   "source": [
    "import pandas as pd\n",
    "import matplotlib.pyplot as plt\n",
    "from surprise import Dataset, Reader, SVD\n",
    "from surprise.model_selection import train_test_split\n"
   ]
  },
  {
   "cell_type": "code",
   "execution_count": 3,
   "id": "62ef1ee3-d432-404e-8a46-7a7c06050eec",
   "metadata": {},
   "outputs": [
    {
     "name": "stdout",
     "output_type": "stream",
     "text": [
      "\n",
      "Top Recommendations for U1:\n",
      "\n",
      "         predicted_rating\n",
      "item_id                  \n",
      "I4               3.670850\n",
      "I5               3.514909\n"
     ]
    },
    {
     "data": {
      "image/png": "[encoded data removed]",
      "text/plain": [
       "<Figure size 600x400 with 1 Axes>"
      ]
     },
     "metadata": {},
     "output_type": "display_data"
    }
   ],
   "source": [
    "# Step 1: Import libraries\n",
    "import pandas as pd\n",
    "import matplotlib.pyplot as plt\n",
    "from surprise import Dataset, Reader, SVD\n",
    "\n",
    "# Step 2: Prepare dataset\n",
    "data_dict = {\n",
    "    'user_id': ['U1', 'U1', 'U1', 'U2', 'U2', 'U3', 'U3', 'U3', 'U3'],\n",
    "    'item_id': ['I1', 'I2', 'I3', 'I1', 'I2', 'I2', 'I3', 'I4', 'I5'],\n",
    "    'rating':  [5,    3,    4,    4,    2,    2,    4,    5,    3]\n",
    "}\n",
    "df = pd.DataFrame(data_dict)\n",
    "\n",
    "# Step 3: Convert to Surprise format\n",
    "reader = Reader(rating_scale=(1, 5))\n",
    "data = Dataset.load_from_df(df[['user_id', 'item_id', 'rating']], reader)\n",
    "trainset = data.build_full_trainset()\n",
    "\n",
    "# Step 4: Train model\n",
    "algo = SVD()\n",
    "algo.fit(trainset)\n",
    "\n",
    "# Step 5: Define recommendation function\n",
    "def get_top_n_recommendations(user_id, df, algo, n=3):\n",
    "    all_items = df['item_id'].unique()\n",
    "    rated_items = df[df['user_id'] == user_id]['item_id'].unique()\n",
    "    unrated_items = [item for item in all_items if item not in rated_items]\n",
    "    predictions = [(item, algo.predict(user_id, item).est) for item in unrated_items]\n",
    "    predictions.sort(key=lambda x: x[1], reverse=True)\n",
    "    return pd.DataFrame(predictions[:n], columns=['item_id', 'predicted_rating']).set_index('item_id')\n",
    "\n",
    "# Step 6: Get and show recommendations\n",
    "user = 'U1'\n",
    "recommendations = get_top_n_recommendations(user, df, algo)\n",
    "print(f\"\\nTop Recommendations for {user}:\\n\")\n",
    "print(recommendations)\n",
    "\n",
    "# Step 7: Plot\n",
    "recommendations['predicted_rating'].plot(kind='bar', color='skyblue', figsize=(6,4))\n",
    "plt.title(f\"Top Recommendations for {user}\")\n",
    "plt.ylabel(\"Predicted Rating\")\n",
    "plt.xlabel(\"Item ID\")\n",
    "plt.ylim(0, 5)\n",
    "plt.xticks(rotation=0)\n",
    "plt.grid(True, axis='y')\n",
    "plt.tight_layout()\n",
    "plt.show()\n"
   ]
  },
  {
   "cell_type": "code",
   "execution_count": null,
   "id": "a9ceddc5-798f-4677-b990-3d8b757e7b12",
   "metadata": {},
   "outputs": [],
   "source": [
    "reader = Reader(rating_scale=(1, 5))\n",
    "data_surprise = Dataset.load_from_df(df[['user_id', 'item_id', 'rating']], reader)\n"
   ]
  },
  {
   "cell_type": "code",
   "execution_count": null,
   "id": "b44acc03-b3a0-4bf4-b6c1-040988da206d",
   "metadata": {},
   "outputs": [],
   "source": [
    "algo = SVD()\n",
    "cross_validate(algo, data_surprise, measures=['RMSE', 'MAE'], cv=3, verbose=True)\n"
   ]
  },
  {
   "cell_type": "code",
   "execution_count": null,
   "id": "ad341509-84b7-4834-a6bc-3f208b8b1478",
   "metadata": {},
   "outputs": [],
   "source": [
    "# Fit on all data\n",
    "trainset = data_surprise.build_full_trainset()\n",
    "algo.fit(trainset)\n",
    "\n",
    "# Predict rating for a user-item pair\n",
    "pred = algo.predict('U1', 'I4')\n",
    "print(f\"Predicted rating for U1 & I4: {pred.est:.2f}\")\n"
   ]
  },
  {
   "cell_type": "code",
   "execution_count": null,
   "id": "460335d4-c5a1-4543-9db1-a6e870d43492",
   "metadata": {},
   "outputs": [],
   "source": [
    "algo = SVD()\n",
    "algo.fit(trainset)\n"
   ]
  },
  {
   "cell_type": "code",
   "execution_count": null,
   "id": "cdc5f68c-6904-4609-b69c-a5c95e1eb3ae",
   "metadata": {},
   "outputs": [],
   "source": [
    "# Get list of all items\n",
    "all_items = df['item_id'].unique()\n",
    "user = 'U1'\n",
    "\n",
    "# Get items already rated by this user\n",
    "rated_items = df[df['user_id'] == user]['item_id'].tolist()\n",
    "\n",
    "# Find items NOT rated by the user\n",
    "unrated_items = [item for item in all_items if item not in rated_items]\n",
    "print(\"Items not yet rated by\", user, \":\", unrated_items)\n"
   ]
  },
  {
   "cell_type": "code",
   "execution_count": null,
   "id": "8a73df3c-2cd5-45d3-9e1a-04cd437231ba",
   "metadata": {},
   "outputs": [],
   "source": [
    "predictions = []\n",
    "for item in unrated_items:\n",
    "    pred = algo.predict(user, item)\n",
    "    predictions.append((item, pred.est))\n",
    "\n",
    "# Sort predictions by estimated rating, descending\n",
    "top_n = sorted(predictions, key=lambda x: x[1], reverse=True)\n",
    "top_n\n"
   ]
  },
  {
   "cell_type": "code",
   "execution_count": null,
   "id": "3fadfe2a-aeac-45e9-82ec-5f39a172910b",
   "metadata": {},
   "outputs": [],
   "source": [
    "N = 3\n",
    "print(f\"Top {N} recommendations for {user}:\")\n",
    "\n",
    "for item, rating in top_n[:N]:\n",
    "    print(f\"Item: {item}, Predicted Rating: {rating:.2f}\")\n"
   ]
  },
  {
   "cell_type": "code",
   "execution_count": null,
   "id": "9abf9b53-471d-4b17-9e06-986560293b74",
   "metadata": {},
   "outputs": [],
   "source": [
    "recommendations = pd.DataFrame(top_n, columns=['item_id', 'predicted_rating'])\n",
    "recommendations.head(N)\n"
   ]
  },
  {
   "cell_type": "code",
   "execution_count": null,
   "id": "8ce18853-277c-433f-b630-d31a4fe3eb9c",
   "metadata": {},
   "outputs": [],
   "source": [
    "import matplotlib.pyplot as plt\n",
    "\n",
    "recommendations.set_index('item_id', inplace=True)\n",
    "recommendations['predicted_rating'].plot(kind='bar', figsize=(6,4), color='skyblue')\n",
    "plt.title(f\"Top Recommendations for {user}\")\n",
    "plt.ylabel(\"Predicted Rating\")\n",
    "plt.show()\n"
   ]
  },
  {
   "cell_type": "code",
   "execution_count": null,
   "id": "3da1732a-90e9-42d1-9b44-edd4442d423a",
   "metadata": {},
   "outputs": [],
   "source": [
    "all_users = df['user_id'].unique()\n",
    "\n",
    "for user in all_users:\n",
    "    rated_items = df[df['user_id'] == user]['item_id'].tolist()\n",
    "    unrated_items = [item for item in all_items if item not in rated_items]\n",
    "\n",
    "    predictions = []\n",
    "    for item in unrated_items:\n",
    "        pred = algo.predict(user, item)\n",
    "        predictions.append((item, pred.est))\n",
    "\n",
    "    top_n = sorted(predictions, key=lambda x: x[1], reverse=True)[:3]\n",
    "    print(f\"\\nTop 3 recommendations for {user}:\")\n",
    "    for item, rating in top_n:\n",
    "        print(f\"Item: {item}, Predicted Rating: {rating:.2f}\")\n"
   ]
  },
  {
   "cell_type": "code",
   "execution_count": null,
   "id": "a1183187-c690-4444-8dcb-0cdcab0253a7",
   "metadata": {},
   "outputs": [],
   "source": [
    "result_list = []\n",
    "\n",
    "for user in all_users:\n",
    "    rated_items = df[df['user_id'] == user]['item_id'].tolist()\n",
    "    unrated_items = [item for item in all_items if item not in rated_items]\n",
    "\n",
    "    predictions = []\n",
    "    for item in unrated_items:\n",
    "        pred = algo.predict(user, item)\n",
    "        predictions.append((item, pred.est))\n",
    "\n",
    "    top_n = sorted(predictions, key=lambda x: x[1], reverse=True)[:3]\n",
    "    for item, rating in top_n:\n",
    "        result_list.append((user, item, rating))\n",
    "\n",
    "final_recs = pd.DataFrame(result_list, columns=['user_id', 'item_id', 'predicted_rating'])\n",
    "final_recs.to_csv('top_recommendations.csv', index=False)\n",
    "\n",
    "print(\"✅ Recommendations saved to top_recommendations.csv\")\n"
   ]
  },
  {
   "cell_type": "code",
   "execution_count": null,
   "id": "7c748c49-6f04-4a7b-a912-1580f096bfbb",
   "metadata": {},
   "outputs": [],
   "source": [
    "import matplotlib.pyplot as plt\n",
    "\n",
    "recommendations.set_index('item_id', inplace=True)\n",
    "recommendations['predicted_rating'].plot(kind='bar', figsize=(6,4), color='skyblue')\n",
    "plt.title(f\"Top Recommendations for {user}\")\n",
    "plt.ylabel(\"Predicted Rating\")\n",
    "plt.show()\n"
   ]
  },
  {
   "cell_type": "code",
   "execution_count": null,
   "id": "40a64b69-e4e4-43aa-bafe-5b830a921524",
   "metadata": {},
   "outputs": [],
   "source": [
    "print(recommendations)\n",
    "print(recommendations.columns)\n"
   ]
  },
  {
   "cell_type": "code",
   "execution_count": null,
   "id": "7eeb3b65-7b2c-46aa-803f-3e960cfa3b99",
   "metadata": {},
   "outputs": [],
   "source": [
    "recommendations = [('I5', 3.809190), ('I4', 3.790636)]\n"
   ]
  },
  {
   "cell_type": "code",
   "execution_count": null,
   "id": "5316a0d1-834a-459f-8beb-ce4ae023e416",
   "metadata": {},
   "outputs": [],
   "source": [
    "import pandas as pd\n",
    "\n",
    "recommendations = pd.DataFrame(recommendations, columns=['item_id', 'predicted_rating'])\n"
   ]
  },
  {
   "cell_type": "code",
   "execution_count": null,
   "id": "0bfc9656-4d95-4df9-abd3-0b855fac676a",
   "metadata": {},
   "outputs": [],
   "source": [
    "import matplotlib.pyplot as plt\n",
    "\n",
    "recommendations.set_index('item_id', inplace=True)\n",
    "recommendations['predicted_rating'].plot(kind='bar', figsize=(6,4), color='skyblue')\n",
    "plt.title(f\"Top Recommendations for {user}\")\n",
    "plt.ylabel(\"Predicted Rating\")\n",
    "plt.show()\n"
   ]
  },
  {
   "cell_type": "code",
   "execution_count": null,
   "id": "a502d4c6-20c8-4f00-a5c7-900e92882578",
   "metadata": {},
   "outputs": [],
   "source": [
    "import matplotlib.pyplot as plt\n",
    "\n",
    "recommendations['predicted_rating'].plot(kind='bar', figsize=(6, 4), color='skyblue')\n",
    "plt.title(f\"Top Recommendations for {user}\")\n",
    "plt.ylabel(\"Predicted Rating\")\n",
    "plt.xlabel(\"Item ID\")\n",
    "plt.xticks(rotation=0)\n",
    "plt.tight_layout()\n",
    "plt.show()\n"
   ]
  },
  {
   "cell_type": "code",
   "execution_count": null,
   "id": "7e6426b8-8012-454f-a6dc-4c51abd4fe8b",
   "metadata": {},
   "outputs": [],
   "source": [
    "from surprise import SVD, Dataset, Reader\n",
    "from surprise.model_selection import cross_validate\n",
    "import pandas as pd\n",
    "\n",
    "# Step 1: Prepare the dataset\n",
    "data_dict = {\n",
    "    'user_id': ['U1', 'U1', 'U1', 'U2', 'U2', 'U3', 'U3', 'U3', 'U3'],\n",
    "    'item_id': ['I1', 'I2', 'I3', 'I1', 'I2', 'I2', 'I3', 'I4', 'I5'],\n",
    "    'rating': [5, 3, 4, 4, 2, 2, 4, 5, 3]\n",
    "}\n",
    "df = pd.DataFrame(data_dict)\n",
    "\n",
    "reader = Reader(rating_scale=(1, 5))\n",
    "data = Dataset.load_from_df(df[['user_id', 'item_id', 'rating']], reader)\n",
    "\n",
    "# Step 2: Build model\n",
    "algo = SVD()\n",
    "trainset = data.build\n"
   ]
  },
  {
   "cell_type": "code",
   "execution_count": null,
   "id": "8e401721-226b-4361-a7a4-e3dc15753e88",
   "metadata": {},
   "outputs": [],
   "source": [
    "recommendations['predicted_rating'].plot(kind='bar', figsize=(6, 4), color='skyblue')\n",
    "plt.title(f\"Top Recommendations for {user}\")\n",
    "plt.ylabel(\"Predicted Rating\")\n",
    "plt.xlabel(\"Item ID\")\n",
    "plt.xticks(rotation=0)\n",
    "plt.tight_layout()\n",
    "plt.show()\n"
   ]
  },
  {
   "cell_type": "code",
   "execution_count": null,
   "id": "0ee50525-b676-4642-bc17-9aeba2a86824",
   "metadata": {},
   "outputs": [],
   "source": [
    "user = 'U1'\n",
    "recommendations = get_top_n_recommendations(user, df, algo)\n",
    "display(recommendations)\n"
   ]
  },
  {
   "cell_type": "code",
   "execution_count": null,
   "id": "dcb208de-67fe-4332-80af-b17263422687",
   "metadata": {},
   "outputs": [],
   "source": [
    "def get_top_n_recommendations(user_id, df, algo, n=3):\n",
    "    all_items = df['item_id'].unique()\n",
    "    rated_items = df[df['user_id'] == user_id]['item_id'].unique()\n",
    "    unrated_items = [item for item in all_items if item not in rated_items]\n",
    "    \n",
    "    predictions = [(item, algo.predict(user_id, item).est) for item in unrated_items]\n",
    "    top_n = sorted(predictions, key=lambda x: x[1], reverse=True)[:n]\n",
    "    \n",
    "    return pd.DataFrame(top_n, columns=['item_id', 'predicted_rating']).set_index('item_id')\n"
   ]
  },
  {
   "cell_type": "code",
   "execution_count": null,
   "id": "715d979f-448e-4274-8f78-adb67ed0f69d",
   "metadata": {},
   "outputs": [],
   "source": [
    "trainset = data.build\n"
   ]
  },
  {
   "cell_type": "code",
   "execution_count": null,
   "id": "03c1869b-91d9-4cf7-9095-fa3d862307f3",
   "metadata": {},
   "outputs": [],
   "source": [
    "def get_top_n_recommendations(user_id, df, algo, n=3):\n",
    "    # Get all items the user has already rated\n",
    "    rated_items = df[df['user_id'] == user_id]['item_id'].tolist()\n",
    "    \n",
    "    # Get all unique items\n",
    "    all_items = df['item_id'].unique()\n",
    "    \n",
    "    # Find items not yet rated by user\n",
    "    unrated_items = [item for item in all_items if item not in rated_items]\n",
    "\n",
    "    # Predict ratings for these items\n",
    "    predictions = [(item, algo.predict(user_id, item).est) for item in unrated_items]\n",
    "    \n",
    "    # Sort by predicted rating, descending\n",
    "    predictions.sort(key=lambda x: x[1], reverse=True)\n",
    "    \n",
    "    # Take top n\n",
    "    top_n = predictions[:n]\n",
    "\n",
    "    # Return as DataFrame\n",
    "    return pd.DataFrame(top_n, columns=['item_id', 'predicted_rating']).set_index('item_id')\n"
   ]
  },
  {
   "cell_type": "code",
   "execution_count": null,
   "id": "87ed2c90-996e-4e81-beeb-38ff493c91ed",
   "metadata": {},
   "outputs": [],
   "source": [
    "user = 'U1'\n",
    "recommendations = get_top_n_recommendations(user, df, algo)\n",
    "display(recommendations)\n"
   ]
  },
  {
   "cell_type": "code",
   "execution_count": null,
   "id": "a65e245d-a1f5-49ff-b773-4ff4d205c80e",
   "metadata": {},
   "outputs": [],
   "source": [
    "trainset = data.build_full_trainset()\n"
   ]
  },
  {
   "cell_type": "code",
   "execution_count": null,
   "id": "86051f88-57db-4b40-ae8b-19e9671369cc",
   "metadata": {},
   "outputs": [],
   "source": [
    "from surprise import Dataset, Reader, SVD\n",
    "import pandas as pd\n",
    "\n",
    "# Sample data\n",
    "ratings_dict = {\n",
    "    'user_id': ['U1', 'U1', 'U1', 'U2', 'U2', 'U3', 'U3', 'U3', 'U3'],\n",
    "    'item_id': ['I1', 'I2', 'I3', 'I1', 'I2', 'I2', 'I3', 'I4', 'I5'],\n",
    "    'rating': [5, 3, 4, 4, 2, 2, 4, 5, 3]\n",
    "}\n",
    "df = pd.DataFrame(ratings_dict)\n",
    "\n",
    "# Load data\n",
    "reader = Reader(rating_scale=(1, 5))\n",
    "data = Dataset.load_from_df(df[['user_id', 'item_id', 'rating']], reader)\n",
    "\n",
    "# ✅ Fix: build the full training set\n",
    "trainset = data.build_full_trainset()\n",
    "\n",
    "# Train model\n",
    "algo = SVD()\n",
    "algo.fit(trainset)\n"
   ]
  },
  {
   "cell_type": "code",
   "execution_count": null,
   "id": "216019bb-2d8c-4521-a473-2a9af89ddff8",
   "metadata": {},
   "outputs": [],
   "source": [
    "# Train the model\n",
    "algo = SVD()\n",
    "trainset = data.build_full_trainset()\n",
    "algo.fit(trainset)\n",
    "\n",
    "# 🔧 Fix for prediction to work properly later\n",
    "algo.trainset = trainset\n"
   ]
  },
  {
   "cell_type": "code",
   "execution_count": null,
   "id": "1ac2d88a-7c9e-43cd-8906-9a7745860523",
   "metadata": {},
   "outputs": [],
   "source": [
    "algo.fit(trainset)\n"
   ]
  },
  {
   "cell_type": "code",
   "execution_count": null,
   "id": "aa7cbc8b-ad0f-4692-a5dc-0237fb166c00",
   "metadata": {},
   "outputs": [],
   "source": [
    "algo.trainset = trainset\n"
   ]
  },
  {
   "cell_type": "code",
   "execution_count": null,
   "id": "650c7d0a-f5b1-412b-9858-945ec6758af2",
   "metadata": {},
   "outputs": [],
   "source": [
    "# Train the model\n",
    "algo = SVD()\n",
    "trainset = data.build_full_trainset()\n",
    "algo.fit(trainset)\n",
    "\n",
    "# 🔧 Fix for prediction to work properly later\n",
    "algo.trainset = trainset\n"
   ]
  },
  {
   "cell_type": "code",
   "execution_count": null,
   "id": "459be58e-5aa2-4def-ad4f-a1d023532c3b",
   "metadata": {},
   "outputs": [],
   "source": [
    "import pandas as pd\n",
    "from surprise import Dataset, Reader, SVD\n",
    "from surprise.model_selection import cross_validate\n"
   ]
  },
  {
   "cell_type": "code",
   "execution_count": null,
   "id": "9efe6c8a-255b-4e17-ad9a-3dfa9eb75814",
   "metadata": {},
   "outputs": [],
   "source": [
    "data_dict = {\n",
    "    'user_id': ['U1', 'U1', 'U1', 'U2', 'U2', 'U3', 'U3', 'U3', 'U3'],\n",
    "    'item_id': ['I1', 'I2', 'I3', 'I1', 'I2', 'I2', 'I3', 'I4', 'I5'],\n",
    "    'rating': [5, 3, 4, 4, 2, 2, 4, 5, 3]\n",
    "}\n",
    "\n",
    "df = pd.DataFrame(data_dict)\n"
   ]
  },
  {
   "cell_type": "code",
   "execution_count": null,
   "id": "6561f0ff-9fe8-4b4e-9748-f536f55c022b",
   "metadata": {},
   "outputs": [],
   "source": [
    "reader = Reader(rating_scale=(1, 5))\n",
    "data = Dataset.load_from_df(df[['user_id', 'item_id', 'rating']], reader)\n"
   ]
  },
  {
   "cell_type": "code",
   "execution_count": 4,
   "id": "64894b22-191f-4e4e-a5a9-75fbd36d4c05",
   "metadata": {},
   "outputs": [
    {
     "data": {
      "text/html": [
       "<div>\n",
       "<style scoped>\n",
       "    .dataframe tbody tr th:only-of-type {\n",
       "        vertical-align: middle;\n",
       "    }\n",
       "\n",
       "    .dataframe tbody tr th {\n",
       "        vertical-align: top;\n",
       "    }\n",
       "\n",
       "    .dataframe thead th {\n",
       "        text-align: right;\n",
       "    }\n",
       "</style>\n",
       "<table border=\"1\" class=\"dataframe\">\n",
       "  <thead>\n",
       "    <tr style=\"text-align: right;\">\n",
       "      <th></th>\n",
       "      <th>predicted_rating</th>\n",
       "    </tr>\n",
       "    <tr>\n",
       "      <th>item_id</th>\n",
       "      <th></th>\n",
       "    </tr>\n",
       "  </thead>\n",
       "  <tbody>\n",
       "    <tr>\n",
       "      <th>I4</th>\n",
       "      <td>3.801589</td>\n",
       "    </tr>\n",
       "    <tr>\n",
       "      <th>I3</th>\n",
       "      <td>3.630353</td>\n",
       "    </tr>\n",
       "    <tr>\n",
       "      <th>I5</th>\n",
       "      <td>3.186421</td>\n",
       "    </tr>\n",
       "  </tbody>\n",
       "</table>\n",
       "</div>"
      ],
      "text/plain": [
       "         predicted_rating\n",
       "item_id                  \n",
       "I4               3.801589\n",
       "I3               3.630353\n",
       "I5               3.186421"
      ]
     },
     "metadata": {},
     "output_type": "display_data"
    }
   ],
   "source": [
    "user = 'U2'\n",
    "recommendations = get_top_n_recommendations(user, df, algo)\n",
    "display(recommendations)\n"
   ]
  },
  {
   "cell_type": "code",
   "execution_count": 5,
   "id": "f15541c0-31c6-45be-9420-36aeec3bba53",
   "metadata": {},
   "outputs": [],
   "source": [
    "recommendations = get_top_n_recommendations(user, df, algo, n=5)\n"
   ]
  },
  {
   "cell_type": "code",
   "execution_count": 6,
   "id": "250374d7-2dc6-4aa8-9d8e-43b3160a6fc6",
   "metadata": {},
   "outputs": [
    {
     "ename": "FileNotFoundError",
     "evalue": "[Errno 2] No such file or directory: 'your_file.csv'",
     "output_type": "error",
     "traceback": [
      "\u001b[31m------------------------------------------------------------------------\u001b[39m",
      "\u001b[31mFileNotFoundError\u001b[39m                      Traceback (most recent call last)",
      "\u001b[36mCell\u001b[39m\u001b[36m \u001b[39m\u001b[32mIn[6]\u001b[39m\u001b[32m, line 1\u001b[39m\n\u001b[32m----> \u001b[39m\u001b[32m1\u001b[39m df = \u001b[43mpd\u001b[49m\u001b[43m.\u001b[49m\u001b[43mread_csv\u001b[49m\u001b[43m(\u001b[49m\u001b[33;43m'\u001b[39;49m\u001b[33;43myour_file.csv\u001b[39;49m\u001b[33;43m'\u001b[39;49m\u001b[43m)\u001b[49m\n",
      "\u001b[36mFile \u001b[39m\u001b[32m~\\AppData\\Local\\Programs\\Python\\Python312\\Lib\\site-packages\\pandas\\io\\parsers\\readers.py:1026\u001b[39m, in \u001b[36mread_csv\u001b[39m\u001b[34m(filepath_or_buffer, sep, delimiter, header, names, index_col, usecols, dtype, engine, converters, true_values, false_values, skipinitialspace, skiprows, skipfooter, nrows, na_values, keep_default_na, na_filter, verbose, skip_blank_lines, parse_dates, infer_datetime_format, keep_date_col, date_parser, date_format, dayfirst, cache_dates, iterator, chunksize, compression, thousands, decimal, lineterminator, quotechar, quoting, doublequote, escapechar, comment, encoding, encoding_errors, dialect, on_bad_lines, delim_whitespace, low_memory, memory_map, float_precision, storage_options, dtype_backend)\u001b[39m\n\u001b[32m   1013\u001b[39m kwds_defaults = _refine_defaults_read(\n\u001b[32m   1014\u001b[39m     dialect,\n\u001b[32m   1015\u001b[39m     delimiter,\n\u001b[32m   (...)\u001b[39m\u001b[32m   1022\u001b[39m     dtype_backend=dtype_backend,\n\u001b[32m   1023\u001b[39m )\n\u001b[32m   1024\u001b[39m kwds.update(kwds_defaults)\n\u001b[32m-> \u001b[39m\u001b[32m1026\u001b[39m \u001b[38;5;28;01mreturn\u001b[39;00m \u001b[43m_read\u001b[49m\u001b[43m(\u001b[49m\u001b[43mfilepath_or_buffer\u001b[49m\u001b[43m,\u001b[49m\u001b[43m \u001b[49m\u001b[43mkwds\u001b[49m\u001b[43m)\u001b[49m\n",
      "\u001b[36mFile \u001b[39m\u001b[32m~\\AppData\\Local\\Programs\\Python\\Python312\\Lib\\site-packages\\pandas\\io\\parsers\\readers.py:620\u001b[39m, in \u001b[36m_read\u001b[39m\u001b[34m(filepath_or_buffer, kwds)\u001b[39m\n\u001b[32m    617\u001b[39m _validate_names(kwds.get(\u001b[33m\"\u001b[39m\u001b[33mnames\u001b[39m\u001b[33m\"\u001b[39m, \u001b[38;5;28;01mNone\u001b[39;00m))\n\u001b[32m    619\u001b[39m \u001b[38;5;66;03m# Create the parser.\u001b[39;00m\n\u001b[32m--> \u001b[39m\u001b[32m620\u001b[39m parser = \u001b[43mTextFileReader\u001b[49m\u001b[43m(\u001b[49m\u001b[43mfilepath_or_buffer\u001b[49m\u001b[43m,\u001b[49m\u001b[43m \u001b[49m\u001b[43m*\u001b[49m\u001b[43m*\u001b[49m\u001b[43mkwds\u001b[49m\u001b[43m)\u001b[49m\n\u001b[32m    622\u001b[39m \u001b[38;5;28;01mif\u001b[39;00m chunksize \u001b[38;5;129;01mor\u001b[39;00m iterator:\n\u001b[32m    623\u001b[39m     \u001b[38;5;28;01mreturn\u001b[39;00m parser\n",
      "\u001b[36mFile \u001b[39m\u001b[32m~\\AppData\\Local\\Programs\\Python\\Python312\\Lib\\site-packages\\pandas\\io\\parsers\\readers.py:1620\u001b[39m, in \u001b[36mTextFileReader.__init__\u001b[39m\u001b[34m(self, f, engine, **kwds)\u001b[39m\n\u001b[32m   1617\u001b[39m     \u001b[38;5;28mself\u001b[39m.options[\u001b[33m\"\u001b[39m\u001b[33mhas_index_names\u001b[39m\u001b[33m\"\u001b[39m] = kwds[\u001b[33m\"\u001b[39m\u001b[33mhas_index_names\u001b[39m\u001b[33m\"\u001b[39m]\n\u001b[32m   1619\u001b[39m \u001b[38;5;28mself\u001b[39m.handles: IOHandles | \u001b[38;5;28;01mNone\u001b[39;00m = \u001b[38;5;28;01mNone\u001b[39;00m\n\u001b[32m-> \u001b[39m\u001b[32m1620\u001b[39m \u001b[38;5;28mself\u001b[39m._engine = \u001b[38;5;28;43mself\u001b[39;49m\u001b[43m.\u001b[49m\u001b[43m_make_engine\u001b[49m\u001b[43m(\u001b[49m\u001b[43mf\u001b[49m\u001b[43m,\u001b[49m\u001b[43m \u001b[49m\u001b[38;5;28;43mself\u001b[39;49m\u001b[43m.\u001b[49m\u001b[43mengine\u001b[49m\u001b[43m)\u001b[49m\n",
      "\u001b[36mFile \u001b[39m\u001b[32m~\\AppData\\Local\\Programs\\Python\\Python312\\Lib\\site-packages\\pandas\\io\\parsers\\readers.py:1880\u001b[39m, in \u001b[36mTextFileReader._make_engine\u001b[39m\u001b[34m(self, f, engine)\u001b[39m\n\u001b[32m   1878\u001b[39m     \u001b[38;5;28;01mif\u001b[39;00m \u001b[33m\"\u001b[39m\u001b[33mb\u001b[39m\u001b[33m\"\u001b[39m \u001b[38;5;129;01mnot\u001b[39;00m \u001b[38;5;129;01min\u001b[39;00m mode:\n\u001b[32m   1879\u001b[39m         mode += \u001b[33m\"\u001b[39m\u001b[33mb\u001b[39m\u001b[33m\"\u001b[39m\n\u001b[32m-> \u001b[39m\u001b[32m1880\u001b[39m \u001b[38;5;28mself\u001b[39m.handles = \u001b[43mget_handle\u001b[49m\u001b[43m(\u001b[49m\n\u001b[32m   1881\u001b[39m \u001b[43m    \u001b[49m\u001b[43mf\u001b[49m\u001b[43m,\u001b[49m\n\u001b[32m   1882\u001b[39m \u001b[43m    \u001b[49m\u001b[43mmode\u001b[49m\u001b[43m,\u001b[49m\n\u001b[32m   1883\u001b[39m \u001b[43m    \u001b[49m\u001b[43mencoding\u001b[49m\u001b[43m=\u001b[49m\u001b[38;5;28;43mself\u001b[39;49m\u001b[43m.\u001b[49m\u001b[43moptions\u001b[49m\u001b[43m.\u001b[49m\u001b[43mget\u001b[49m\u001b[43m(\u001b[49m\u001b[33;43m\"\u001b[39;49m\u001b[33;43mencoding\u001b[39;49m\u001b[33;43m\"\u001b[39;49m\u001b[43m,\u001b[49m\u001b[43m \u001b[49m\u001b[38;5;28;43;01mNone\u001b[39;49;00m\u001b[43m)\u001b[49m\u001b[43m,\u001b[49m\n\u001b[32m   1884\u001b[39m \u001b[43m    \u001b[49m\u001b[43mcompression\u001b[49m\u001b[43m=\u001b[49m\u001b[38;5;28;43mself\u001b[39;49m\u001b[43m.\u001b[49m\u001b[43moptions\u001b[49m\u001b[43m.\u001b[49m\u001b[43mget\u001b[49m\u001b[43m(\u001b[49m\u001b[33;43m\"\u001b[39;49m\u001b[33;43mcompression\u001b[39;49m\u001b[33;43m\"\u001b[39;49m\u001b[43m,\u001b[49m\u001b[43m \u001b[49m\u001b[38;5;28;43;01mNone\u001b[39;49;00m\u001b[43m)\u001b[49m\u001b[43m,\u001b[49m\n\u001b[32m   1885\u001b[39m \u001b[43m    \u001b[49m\u001b[43mmemory_map\u001b[49m\u001b[43m=\u001b[49m\u001b[38;5;28;43mself\u001b[39;49m\u001b[43m.\u001b[49m\u001b[43moptions\u001b[49m\u001b[43m.\u001b[49m\u001b[43mget\u001b[49m\u001b[43m(\u001b[49m\u001b[33;43m\"\u001b[39;49m\u001b[33;43mmemory_map\u001b[39;49m\u001b[33;43m\"\u001b[39;49m\u001b[43m,\u001b[49m\u001b[43m \u001b[49m\u001b[38;5;28;43;01mFalse\u001b[39;49;00m\u001b[43m)\u001b[49m\u001b[43m,\u001b[49m\n\u001b[32m   1886\u001b[39m \u001b[43m    \u001b[49m\u001b[43mis_text\u001b[49m\u001b[43m=\u001b[49m\u001b[43mis_text\u001b[49m\u001b[43m,\u001b[49m\n\u001b[32m   1887\u001b[39m \u001b[43m    \u001b[49m\u001b[43merrors\u001b[49m\u001b[43m=\u001b[49m\u001b[38;5;28;43mself\u001b[39;49m\u001b[43m.\u001b[49m\u001b[43moptions\u001b[49m\u001b[43m.\u001b[49m\u001b[43mget\u001b[49m\u001b[43m(\u001b[49m\u001b[33;43m\"\u001b[39;49m\u001b[33;43mencoding_errors\u001b[39;49m\u001b[33;43m\"\u001b[39;49m\u001b[43m,\u001b[49m\u001b[43m \u001b[49m\u001b[33;43m\"\u001b[39;49m\u001b[33;43mstrict\u001b[39;49m\u001b[33;43m\"\u001b[39;49m\u001b[43m)\u001b[49m\u001b[43m,\u001b[49m\n\u001b[32m   1888\u001b[39m \u001b[43m    \u001b[49m\u001b[43mstorage_options\u001b[49m\u001b[43m=\u001b[49m\u001b[38;5;28;43mself\u001b[39;49m\u001b[43m.\u001b[49m\u001b[43moptions\u001b[49m\u001b[43m.\u001b[49m\u001b[43mget\u001b[49m\u001b[43m(\u001b[49m\u001b[33;43m\"\u001b[39;49m\u001b[33;43mstorage_options\u001b[39;49m\u001b[33;43m\"\u001b[39;49m\u001b[43m,\u001b[49m\u001b[43m \u001b[49m\u001b[38;5;28;43;01mNone\u001b[39;49;00m\u001b[43m)\u001b[49m\u001b[43m,\u001b[49m\n\u001b[32m   1889\u001b[39m \u001b[43m\u001b[49m\u001b[43m)\u001b[49m\n\u001b[32m   1890\u001b[39m \u001b[38;5;28;01massert\u001b[39;00m \u001b[38;5;28mself\u001b[39m.handles \u001b[38;5;129;01mis\u001b[39;00m \u001b[38;5;129;01mnot\u001b[39;00m \u001b[38;5;28;01mNone\u001b[39;00m\n\u001b[32m   1891\u001b[39m f = \u001b[38;5;28mself\u001b[39m.handles.handle\n",
      "\u001b[36mFile \u001b[39m\u001b[32m~\\AppData\\Local\\Programs\\Python\\Python312\\Lib\\site-packages\\pandas\\io\\common.py:873\u001b[39m, in \u001b[36mget_handle\u001b[39m\u001b[34m(path_or_buf, mode, encoding, compression, memory_map, is_text, errors, storage_options)\u001b[39m\n\u001b[32m    868\u001b[39m \u001b[38;5;28;01melif\u001b[39;00m \u001b[38;5;28misinstance\u001b[39m(handle, \u001b[38;5;28mstr\u001b[39m):\n\u001b[32m    869\u001b[39m     \u001b[38;5;66;03m# Check whether the filename is to be opened in binary mode.\u001b[39;00m\n\u001b[32m    870\u001b[39m     \u001b[38;5;66;03m# Binary mode does not support 'encoding' and 'newline'.\u001b[39;00m\n\u001b[32m    871\u001b[39m     \u001b[38;5;28;01mif\u001b[39;00m ioargs.encoding \u001b[38;5;129;01mand\u001b[39;00m \u001b[33m\"\u001b[39m\u001b[33mb\u001b[39m\u001b[33m\"\u001b[39m \u001b[38;5;129;01mnot\u001b[39;00m \u001b[38;5;129;01min\u001b[39;00m ioargs.mode:\n\u001b[32m    872\u001b[39m         \u001b[38;5;66;03m# Encoding\u001b[39;00m\n\u001b[32m--> \u001b[39m\u001b[32m873\u001b[39m         handle = \u001b[38;5;28;43mopen\u001b[39;49m\u001b[43m(\u001b[49m\n\u001b[32m    874\u001b[39m \u001b[43m            \u001b[49m\u001b[43mhandle\u001b[49m\u001b[43m,\u001b[49m\n\u001b[32m    875\u001b[39m \u001b[43m            \u001b[49m\u001b[43mioargs\u001b[49m\u001b[43m.\u001b[49m\u001b[43mmode\u001b[49m\u001b[43m,\u001b[49m\n\u001b[32m    876\u001b[39m \u001b[43m            \u001b[49m\u001b[43mencoding\u001b[49m\u001b[43m=\u001b[49m\u001b[43mioargs\u001b[49m\u001b[43m.\u001b[49m\u001b[43mencoding\u001b[49m\u001b[43m,\u001b[49m\n\u001b[32m    877\u001b[39m \u001b[43m            \u001b[49m\u001b[43merrors\u001b[49m\u001b[43m=\u001b[49m\u001b[43merrors\u001b[49m\u001b[43m,\u001b[49m\n\u001b[32m    878\u001b[39m \u001b[43m            \u001b[49m\u001b[43mnewline\u001b[49m\u001b[43m=\u001b[49m\u001b[33;43m\"\u001b[39;49m\u001b[33;43m\"\u001b[39;49m\u001b[43m,\u001b[49m\n\u001b[32m    879\u001b[39m \u001b[43m        \u001b[49m\u001b[43m)\u001b[49m\n\u001b[32m    880\u001b[39m     \u001b[38;5;28;01melse\u001b[39;00m:\n\u001b[32m    881\u001b[39m         \u001b[38;5;66;03m# Binary mode\u001b[39;00m\n\u001b[32m    882\u001b[39m         handle = \u001b[38;5;28mopen\u001b[39m(handle, ioargs.mode)\n",
      "\u001b[31mFileNotFoundError\u001b[39m: [Errno 2] No such file or directory: 'your_file.csv'"
     ]
    }
   ],
   "source": [
    "df = pd.read_csv('your_file.csv')\n"
   ]
  },
  {
   "cell_type": "code",
   "execution_count": 7,
   "id": "ae867c25-fb98-4799-930c-fca16e3e55be",
   "metadata": {},
   "outputs": [],
   "source": [
    "from surprise import KNNBasic\n",
    "algo = KNNBasic()\n"
   ]
  },
  {
   "cell_type": "code",
   "execution_count": 8,
   "id": "3e6833b2-1f23-4137-8390-07b1cf53bd7f",
   "metadata": {},
   "outputs": [
    {
     "ename": "FileNotFoundError",
     "evalue": "[Errno 2] No such file or directory: 'your_file.csv'",
     "output_type": "error",
     "traceback": [
      "\u001b[31m------------------------------------------------------------------------\u001b[39m",
      "\u001b[31mFileNotFoundError\u001b[39m                      Traceback (most recent call last)",
      "\u001b[36mCell\u001b[39m\u001b[36m \u001b[39m\u001b[32mIn[8]\u001b[39m\u001b[32m, line 1\u001b[39m\n\u001b[32m----> \u001b[39m\u001b[32m1\u001b[39m df = \u001b[43mpd\u001b[49m\u001b[43m.\u001b[49m\u001b[43mread_csv\u001b[49m\u001b[43m(\u001b[49m\u001b[33;43m'\u001b[39;49m\u001b[33;43myour_file.csv\u001b[39;49m\u001b[33;43m'\u001b[39;49m\u001b[43m)\u001b[49m  \u001b[38;5;66;03m# ❌ This is just a placeholder\u001b[39;00m\n",
      "\u001b[36mFile \u001b[39m\u001b[32m~\\AppData\\Local\\Programs\\Python\\Python312\\Lib\\site-packages\\pandas\\io\\parsers\\readers.py:1026\u001b[39m, in \u001b[36mread_csv\u001b[39m\u001b[34m(filepath_or_buffer, sep, delimiter, header, names, index_col, usecols, dtype, engine, converters, true_values, false_values, skipinitialspace, skiprows, skipfooter, nrows, na_values, keep_default_na, na_filter, verbose, skip_blank_lines, parse_dates, infer_datetime_format, keep_date_col, date_parser, date_format, dayfirst, cache_dates, iterator, chunksize, compression, thousands, decimal, lineterminator, quotechar, quoting, doublequote, escapechar, comment, encoding, encoding_errors, dialect, on_bad_lines, delim_whitespace, low_memory, memory_map, float_precision, storage_options, dtype_backend)\u001b[39m\n\u001b[32m   1013\u001b[39m kwds_defaults = _refine_defaults_read(\n\u001b[32m   1014\u001b[39m     dialect,\n\u001b[32m   1015\u001b[39m     delimiter,\n\u001b[32m   (...)\u001b[39m\u001b[32m   1022\u001b[39m     dtype_backend=dtype_backend,\n\u001b[32m   1023\u001b[39m )\n\u001b[32m   1024\u001b[39m kwds.update(kwds_defaults)\n\u001b[32m-> \u001b[39m\u001b[32m1026\u001b[39m \u001b[38;5;28;01mreturn\u001b[39;00m \u001b[43m_read\u001b[49m\u001b[43m(\u001b[49m\u001b[43mfilepath_or_buffer\u001b[49m\u001b[43m,\u001b[49m\u001b[43m \u001b[49m\u001b[43mkwds\u001b[49m\u001b[43m)\u001b[49m\n",
      "\u001b[36mFile \u001b[39m\u001b[32m~\\AppData\\Local\\Programs\\Python\\Python312\\Lib\\site-packages\\pandas\\io\\parsers\\readers.py:620\u001b[39m, in \u001b[36m_read\u001b[39m\u001b[34m(filepath_or_buffer, kwds)\u001b[39m\n\u001b[32m    617\u001b[39m _validate_names(kwds.get(\u001b[33m\"\u001b[39m\u001b[33mnames\u001b[39m\u001b[33m\"\u001b[39m, \u001b[38;5;28;01mNone\u001b[39;00m))\n\u001b[32m    619\u001b[39m \u001b[38;5;66;03m# Create the parser.\u001b[39;00m\n\u001b[32m--> \u001b[39m\u001b[32m620\u001b[39m parser = \u001b[43mTextFileReader\u001b[49m\u001b[43m(\u001b[49m\u001b[43mfilepath_or_buffer\u001b[49m\u001b[43m,\u001b[49m\u001b[43m \u001b[49m\u001b[43m*\u001b[49m\u001b[43m*\u001b[49m\u001b[43mkwds\u001b[49m\u001b[43m)\u001b[49m\n\u001b[32m    622\u001b[39m \u001b[38;5;28;01mif\u001b[39;00m chunksize \u001b[38;5;129;01mor\u001b[39;00m iterator:\n\u001b[32m    623\u001b[39m     \u001b[38;5;28;01mreturn\u001b[39;00m parser\n",
      "\u001b[36mFile \u001b[39m\u001b[32m~\\AppData\\Local\\Programs\\Python\\Python312\\Lib\\site-packages\\pandas\\io\\parsers\\readers.py:1620\u001b[39m, in \u001b[36mTextFileReader.__init__\u001b[39m\u001b[34m(self, f, engine, **kwds)\u001b[39m\n\u001b[32m   1617\u001b[39m     \u001b[38;5;28mself\u001b[39m.options[\u001b[33m\"\u001b[39m\u001b[33mhas_index_names\u001b[39m\u001b[33m\"\u001b[39m] = kwds[\u001b[33m\"\u001b[39m\u001b[33mhas_index_names\u001b[39m\u001b[33m\"\u001b[39m]\n\u001b[32m   1619\u001b[39m \u001b[38;5;28mself\u001b[39m.handles: IOHandles | \u001b[38;5;28;01mNone\u001b[39;00m = \u001b[38;5;28;01mNone\u001b[39;00m\n\u001b[32m-> \u001b[39m\u001b[32m1620\u001b[39m \u001b[38;5;28mself\u001b[39m._engine = \u001b[38;5;28;43mself\u001b[39;49m\u001b[43m.\u001b[49m\u001b[43m_make_engine\u001b[49m\u001b[43m(\u001b[49m\u001b[43mf\u001b[49m\u001b[43m,\u001b[49m\u001b[43m \u001b[49m\u001b[38;5;28;43mself\u001b[39;49m\u001b[43m.\u001b[49m\u001b[43mengine\u001b[49m\u001b[43m)\u001b[49m\n",
      "\u001b[36mFile \u001b[39m\u001b[32m~\\AppData\\Local\\Programs\\Python\\Python312\\Lib\\site-packages\\pandas\\io\\parsers\\readers.py:1880\u001b[39m, in \u001b[36mTextFileReader._make_engine\u001b[39m\u001b[34m(self, f, engine)\u001b[39m\n\u001b[32m   1878\u001b[39m     \u001b[38;5;28;01mif\u001b[39;00m \u001b[33m\"\u001b[39m\u001b[33mb\u001b[39m\u001b[33m\"\u001b[39m \u001b[38;5;129;01mnot\u001b[39;00m \u001b[38;5;129;01min\u001b[39;00m mode:\n\u001b[32m   1879\u001b[39m         mode += \u001b[33m\"\u001b[39m\u001b[33mb\u001b[39m\u001b[33m\"\u001b[39m\n\u001b[32m-> \u001b[39m\u001b[32m1880\u001b[39m \u001b[38;5;28mself\u001b[39m.handles = \u001b[43mget_handle\u001b[49m\u001b[43m(\u001b[49m\n\u001b[32m   1881\u001b[39m \u001b[43m    \u001b[49m\u001b[43mf\u001b[49m\u001b[43m,\u001b[49m\n\u001b[32m   1882\u001b[39m \u001b[43m    \u001b[49m\u001b[43mmode\u001b[49m\u001b[43m,\u001b[49m\n\u001b[32m   1883\u001b[39m \u001b[43m    \u001b[49m\u001b[43mencoding\u001b[49m\u001b[43m=\u001b[49m\u001b[38;5;28;43mself\u001b[39;49m\u001b[43m.\u001b[49m\u001b[43moptions\u001b[49m\u001b[43m.\u001b[49m\u001b[43mget\u001b[49m\u001b[43m(\u001b[49m\u001b[33;43m\"\u001b[39;49m\u001b[33;43mencoding\u001b[39;49m\u001b[33;43m\"\u001b[39;49m\u001b[43m,\u001b[49m\u001b[43m \u001b[49m\u001b[38;5;28;43;01mNone\u001b[39;49;00m\u001b[43m)\u001b[49m\u001b[43m,\u001b[49m\n\u001b[32m   1884\u001b[39m \u001b[43m    \u001b[49m\u001b[43mcompression\u001b[49m\u001b[43m=\u001b[49m\u001b[38;5;28;43mself\u001b[39;49m\u001b[43m.\u001b[49m\u001b[43moptions\u001b[49m\u001b[43m.\u001b[49m\u001b[43mget\u001b[49m\u001b[43m(\u001b[49m\u001b[33;43m\"\u001b[39;49m\u001b[33;43mcompression\u001b[39;49m\u001b[33;43m\"\u001b[39;49m\u001b[43m,\u001b[49m\u001b[43m \u001b[49m\u001b[38;5;28;43;01mNone\u001b[39;49;00m\u001b[43m)\u001b[49m\u001b[43m,\u001b[49m\n\u001b[32m   1885\u001b[39m \u001b[43m    \u001b[49m\u001b[43mmemory_map\u001b[49m\u001b[43m=\u001b[49m\u001b[38;5;28;43mself\u001b[39;49m\u001b[43m.\u001b[49m\u001b[43moptions\u001b[49m\u001b[43m.\u001b[49m\u001b[43mget\u001b[49m\u001b[43m(\u001b[49m\u001b[33;43m\"\u001b[39;49m\u001b[33;43mmemory_map\u001b[39;49m\u001b[33;43m\"\u001b[39;49m\u001b[43m,\u001b[49m\u001b[43m \u001b[49m\u001b[38;5;28;43;01mFalse\u001b[39;49;00m\u001b[43m)\u001b[49m\u001b[43m,\u001b[49m\n\u001b[32m   1886\u001b[39m \u001b[43m    \u001b[49m\u001b[43mis_text\u001b[49m\u001b[43m=\u001b[49m\u001b[43mis_text\u001b[49m\u001b[43m,\u001b[49m\n\u001b[32m   1887\u001b[39m \u001b[43m    \u001b[49m\u001b[43merrors\u001b[49m\u001b[43m=\u001b[49m\u001b[38;5;28;43mself\u001b[39;49m\u001b[43m.\u001b[49m\u001b[43moptions\u001b[49m\u001b[43m.\u001b[49m\u001b[43mget\u001b[49m\u001b[43m(\u001b[49m\u001b[33;43m\"\u001b[39;49m\u001b[33;43mencoding_errors\u001b[39;49m\u001b[33;43m\"\u001b[39;49m\u001b[43m,\u001b[49m\u001b[43m \u001b[49m\u001b[33;43m\"\u001b[39;49m\u001b[33;43mstrict\u001b[39;49m\u001b[33;43m\"\u001b[39;49m\u001b[43m)\u001b[49m\u001b[43m,\u001b[49m\n\u001b[32m   1888\u001b[39m \u001b[43m    \u001b[49m\u001b[43mstorage_options\u001b[49m\u001b[43m=\u001b[49m\u001b[38;5;28;43mself\u001b[39;49m\u001b[43m.\u001b[49m\u001b[43moptions\u001b[49m\u001b[43m.\u001b[49m\u001b[43mget\u001b[49m\u001b[43m(\u001b[49m\u001b[33;43m\"\u001b[39;49m\u001b[33;43mstorage_options\u001b[39;49m\u001b[33;43m\"\u001b[39;49m\u001b[43m,\u001b[49m\u001b[43m \u001b[49m\u001b[38;5;28;43;01mNone\u001b[39;49;00m\u001b[43m)\u001b[49m\u001b[43m,\u001b[49m\n\u001b[32m   1889\u001b[39m \u001b[43m\u001b[49m\u001b[43m)\u001b[49m\n\u001b[32m   1890\u001b[39m \u001b[38;5;28;01massert\u001b[39;00m \u001b[38;5;28mself\u001b[39m.handles \u001b[38;5;129;01mis\u001b[39;00m \u001b[38;5;129;01mnot\u001b[39;00m \u001b[38;5;28;01mNone\u001b[39;00m\n\u001b[32m   1891\u001b[39m f = \u001b[38;5;28mself\u001b[39m.handles.handle\n",
      "\u001b[36mFile \u001b[39m\u001b[32m~\\AppData\\Local\\Programs\\Python\\Python312\\Lib\\site-packages\\pandas\\io\\common.py:873\u001b[39m, in \u001b[36mget_handle\u001b[39m\u001b[34m(path_or_buf, mode, encoding, compression, memory_map, is_text, errors, storage_options)\u001b[39m\n\u001b[32m    868\u001b[39m \u001b[38;5;28;01melif\u001b[39;00m \u001b[38;5;28misinstance\u001b[39m(handle, \u001b[38;5;28mstr\u001b[39m):\n\u001b[32m    869\u001b[39m     \u001b[38;5;66;03m# Check whether the filename is to be opened in binary mode.\u001b[39;00m\n\u001b[32m    870\u001b[39m     \u001b[38;5;66;03m# Binary mode does not support 'encoding' and 'newline'.\u001b[39;00m\n\u001b[32m    871\u001b[39m     \u001b[38;5;28;01mif\u001b[39;00m ioargs.encoding \u001b[38;5;129;01mand\u001b[39;00m \u001b[33m\"\u001b[39m\u001b[33mb\u001b[39m\u001b[33m\"\u001b[39m \u001b[38;5;129;01mnot\u001b[39;00m \u001b[38;5;129;01min\u001b[39;00m ioargs.mode:\n\u001b[32m    872\u001b[39m         \u001b[38;5;66;03m# Encoding\u001b[39;00m\n\u001b[32m--> \u001b[39m\u001b[32m873\u001b[39m         handle = \u001b[38;5;28;43mopen\u001b[39;49m\u001b[43m(\u001b[49m\n\u001b[32m    874\u001b[39m \u001b[43m            \u001b[49m\u001b[43mhandle\u001b[49m\u001b[43m,\u001b[49m\n\u001b[32m    875\u001b[39m \u001b[43m            \u001b[49m\u001b[43mioargs\u001b[49m\u001b[43m.\u001b[49m\u001b[43mmode\u001b[49m\u001b[43m,\u001b[49m\n\u001b[32m    876\u001b[39m \u001b[43m            \u001b[49m\u001b[43mencoding\u001b[49m\u001b[43m=\u001b[49m\u001b[43mioargs\u001b[49m\u001b[43m.\u001b[49m\u001b[43mencoding\u001b[49m\u001b[43m,\u001b[49m\n\u001b[32m    877\u001b[39m \u001b[43m            \u001b[49m\u001b[43merrors\u001b[49m\u001b[43m=\u001b[49m\u001b[43merrors\u001b[49m\u001b[43m,\u001b[49m\n\u001b[32m    878\u001b[39m \u001b[43m            \u001b[49m\u001b[43mnewline\u001b[49m\u001b[43m=\u001b[49m\u001b[33;43m\"\u001b[39;49m\u001b[33;43m\"\u001b[39;49m\u001b[43m,\u001b[49m\n\u001b[32m    879\u001b[39m \u001b[43m        \u001b[49m\u001b[43m)\u001b[49m\n\u001b[32m    880\u001b[39m     \u001b[38;5;28;01melse\u001b[39;00m:\n\u001b[32m    881\u001b[39m         \u001b[38;5;66;03m# Binary mode\u001b[39;00m\n\u001b[32m    882\u001b[39m         handle = \u001b[38;5;28mopen\u001b[39m(handle, ioargs.mode)\n",
      "\u001b[31mFileNotFoundError\u001b[39m: [Errno 2] No such file or directory: 'your_file.csv'"
     ]
    }
   ],
   "source": [
    "df = pd.read_csv('your_file.csv')  # ❌ This is just a placeholder\n"
   ]
  },
  {
   "cell_type": "code",
   "execution_count": 9,
   "id": "c304bc2d-87f4-42c2-91ba-b2b96df8b377",
   "metadata": {},
   "outputs": [
    {
     "ename": "FileNotFoundError",
     "evalue": "[Errno 2] No such file or directory: 'ratings.csv'",
     "output_type": "error",
     "traceback": [
      "\u001b[31m------------------------------------------------------------------------\u001b[39m",
      "\u001b[31mFileNotFoundError\u001b[39m                      Traceback (most recent call last)",
      "\u001b[36mCell\u001b[39m\u001b[36m \u001b[39m\u001b[32mIn[9]\u001b[39m\u001b[32m, line 1\u001b[39m\n\u001b[32m----> \u001b[39m\u001b[32m1\u001b[39m df = \u001b[43mpd\u001b[49m\u001b[43m.\u001b[49m\u001b[43mread_csv\u001b[49m\u001b[43m(\u001b[49m\u001b[33;43m'\u001b[39;49m\u001b[33;43mratings.csv\u001b[39;49m\u001b[33;43m'\u001b[39;49m\u001b[43m)\u001b[49m  \u001b[38;5;66;03m# ✅ Replace with your real filename\u001b[39;00m\n",
      "\u001b[36mFile \u001b[39m\u001b[32m~\\AppData\\Local\\Programs\\Python\\Python312\\Lib\\site-packages\\pandas\\io\\parsers\\readers.py:1026\u001b[39m, in \u001b[36mread_csv\u001b[39m\u001b[34m(filepath_or_buffer, sep, delimiter, header, names, index_col, usecols, dtype, engine, converters, true_values, false_values, skipinitialspace, skiprows, skipfooter, nrows, na_values, keep_default_na, na_filter, verbose, skip_blank_lines, parse_dates, infer_datetime_format, keep_date_col, date_parser, date_format, dayfirst, cache_dates, iterator, chunksize, compression, thousands, decimal, lineterminator, quotechar, quoting, doublequote, escapechar, comment, encoding, encoding_errors, dialect, on_bad_lines, delim_whitespace, low_memory, memory_map, float_precision, storage_options, dtype_backend)\u001b[39m\n\u001b[32m   1013\u001b[39m kwds_defaults = _refine_defaults_read(\n\u001b[32m   1014\u001b[39m     dialect,\n\u001b[32m   1015\u001b[39m     delimiter,\n\u001b[32m   (...)\u001b[39m\u001b[32m   1022\u001b[39m     dtype_backend=dtype_backend,\n\u001b[32m   1023\u001b[39m )\n\u001b[32m   1024\u001b[39m kwds.update(kwds_defaults)\n\u001b[32m-> \u001b[39m\u001b[32m1026\u001b[39m \u001b[38;5;28;01mreturn\u001b[39;00m \u001b[43m_read\u001b[49m\u001b[43m(\u001b[49m\u001b[43mfilepath_or_buffer\u001b[49m\u001b[43m,\u001b[49m\u001b[43m \u001b[49m\u001b[43mkwds\u001b[49m\u001b[43m)\u001b[49m\n",
      "\u001b[36mFile \u001b[39m\u001b[32m~\\AppData\\Local\\Programs\\Python\\Python312\\Lib\\site-packages\\pandas\\io\\parsers\\readers.py:620\u001b[39m, in \u001b[36m_read\u001b[39m\u001b[34m(filepath_or_buffer, kwds)\u001b[39m\n\u001b[32m    617\u001b[39m _validate_names(kwds.get(\u001b[33m\"\u001b[39m\u001b[33mnames\u001b[39m\u001b[33m\"\u001b[39m, \u001b[38;5;28;01mNone\u001b[39;00m))\n\u001b[32m    619\u001b[39m \u001b[38;5;66;03m# Create the parser.\u001b[39;00m\n\u001b[32m--> \u001b[39m\u001b[32m620\u001b[39m parser = \u001b[43mTextFileReader\u001b[49m\u001b[43m(\u001b[49m\u001b[43mfilepath_or_buffer\u001b[49m\u001b[43m,\u001b[49m\u001b[43m \u001b[49m\u001b[43m*\u001b[49m\u001b[43m*\u001b[49m\u001b[43mkwds\u001b[49m\u001b[43m)\u001b[49m\n\u001b[32m    622\u001b[39m \u001b[38;5;28;01mif\u001b[39;00m chunksize \u001b[38;5;129;01mor\u001b[39;00m iterator:\n\u001b[32m    623\u001b[39m     \u001b[38;5;28;01mreturn\u001b[39;00m parser\n",
      "\u001b[36mFile \u001b[39m\u001b[32m~\\AppData\\Local\\Programs\\Python\\Python312\\Lib\\site-packages\\pandas\\io\\parsers\\readers.py:1620\u001b[39m, in \u001b[36mTextFileReader.__init__\u001b[39m\u001b[34m(self, f, engine, **kwds)\u001b[39m\n\u001b[32m   1617\u001b[39m     \u001b[38;5;28mself\u001b[39m.options[\u001b[33m\"\u001b[39m\u001b[33mhas_index_names\u001b[39m\u001b[33m\"\u001b[39m] = kwds[\u001b[33m\"\u001b[39m\u001b[33mhas_index_names\u001b[39m\u001b[33m\"\u001b[39m]\n\u001b[32m   1619\u001b[39m \u001b[38;5;28mself\u001b[39m.handles: IOHandles | \u001b[38;5;28;01mNone\u001b[39;00m = \u001b[38;5;28;01mNone\u001b[39;00m\n\u001b[32m-> \u001b[39m\u001b[32m1620\u001b[39m \u001b[38;5;28mself\u001b[39m._engine = \u001b[38;5;28;43mself\u001b[39;49m\u001b[43m.\u001b[49m\u001b[43m_make_engine\u001b[49m\u001b[43m(\u001b[49m\u001b[43mf\u001b[49m\u001b[43m,\u001b[49m\u001b[43m \u001b[49m\u001b[38;5;28;43mself\u001b[39;49m\u001b[43m.\u001b[49m\u001b[43mengine\u001b[49m\u001b[43m)\u001b[49m\n",
      "\u001b[36mFile \u001b[39m\u001b[32m~\\AppData\\Local\\Programs\\Python\\Python312\\Lib\\site-packages\\pandas\\io\\parsers\\readers.py:1880\u001b[39m, in \u001b[36mTextFileReader._make_engine\u001b[39m\u001b[34m(self, f, engine)\u001b[39m\n\u001b[32m   1878\u001b[39m     \u001b[38;5;28;01mif\u001b[39;00m \u001b[33m\"\u001b[39m\u001b[33mb\u001b[39m\u001b[33m\"\u001b[39m \u001b[38;5;129;01mnot\u001b[39;00m \u001b[38;5;129;01min\u001b[39;00m mode:\n\u001b[32m   1879\u001b[39m         mode += \u001b[33m\"\u001b[39m\u001b[33mb\u001b[39m\u001b[33m\"\u001b[39m\n\u001b[32m-> \u001b[39m\u001b[32m1880\u001b[39m \u001b[38;5;28mself\u001b[39m.handles = \u001b[43mget_handle\u001b[49m\u001b[43m(\u001b[49m\n\u001b[32m   1881\u001b[39m \u001b[43m    \u001b[49m\u001b[43mf\u001b[49m\u001b[43m,\u001b[49m\n\u001b[32m   1882\u001b[39m \u001b[43m    \u001b[49m\u001b[43mmode\u001b[49m\u001b[43m,\u001b[49m\n\u001b[32m   1883\u001b[39m \u001b[43m    \u001b[49m\u001b[43mencoding\u001b[49m\u001b[43m=\u001b[49m\u001b[38;5;28;43mself\u001b[39;49m\u001b[43m.\u001b[49m\u001b[43moptions\u001b[49m\u001b[43m.\u001b[49m\u001b[43mget\u001b[49m\u001b[43m(\u001b[49m\u001b[33;43m\"\u001b[39;49m\u001b[33;43mencoding\u001b[39;49m\u001b[33;43m\"\u001b[39;49m\u001b[43m,\u001b[49m\u001b[43m \u001b[49m\u001b[38;5;28;43;01mNone\u001b[39;49;00m\u001b[43m)\u001b[49m\u001b[43m,\u001b[49m\n\u001b[32m   1884\u001b[39m \u001b[43m    \u001b[49m\u001b[43mcompression\u001b[49m\u001b[43m=\u001b[49m\u001b[38;5;28;43mself\u001b[39;49m\u001b[43m.\u001b[49m\u001b[43moptions\u001b[49m\u001b[43m.\u001b[49m\u001b[43mget\u001b[49m\u001b[43m(\u001b[49m\u001b[33;43m\"\u001b[39;49m\u001b[33;43mcompression\u001b[39;49m\u001b[33;43m\"\u001b[39;49m\u001b[43m,\u001b[49m\u001b[43m \u001b[49m\u001b[38;5;28;43;01mNone\u001b[39;49;00m\u001b[43m)\u001b[49m\u001b[43m,\u001b[49m\n\u001b[32m   1885\u001b[39m \u001b[43m    \u001b[49m\u001b[43mmemory_map\u001b[49m\u001b[43m=\u001b[49m\u001b[38;5;28;43mself\u001b[39;49m\u001b[43m.\u001b[49m\u001b[43moptions\u001b[49m\u001b[43m.\u001b[49m\u001b[43mget\u001b[49m\u001b[43m(\u001b[49m\u001b[33;43m\"\u001b[39;49m\u001b[33;43mmemory_map\u001b[39;49m\u001b[33;43m\"\u001b[39;49m\u001b[43m,\u001b[49m\u001b[43m \u001b[49m\u001b[38;5;28;43;01mFalse\u001b[39;49;00m\u001b[43m)\u001b[49m\u001b[43m,\u001b[49m\n\u001b[32m   1886\u001b[39m \u001b[43m    \u001b[49m\u001b[43mis_text\u001b[49m\u001b[43m=\u001b[49m\u001b[43mis_text\u001b[49m\u001b[43m,\u001b[49m\n\u001b[32m   1887\u001b[39m \u001b[43m    \u001b[49m\u001b[43merrors\u001b[49m\u001b[43m=\u001b[49m\u001b[38;5;28;43mself\u001b[39;49m\u001b[43m.\u001b[49m\u001b[43moptions\u001b[49m\u001b[43m.\u001b[49m\u001b[43mget\u001b[49m\u001b[43m(\u001b[49m\u001b[33;43m\"\u001b[39;49m\u001b[33;43mencoding_errors\u001b[39;49m\u001b[33;43m\"\u001b[39;49m\u001b[43m,\u001b[49m\u001b[43m \u001b[49m\u001b[33;43m\"\u001b[39;49m\u001b[33;43mstrict\u001b[39;49m\u001b[33;43m\"\u001b[39;49m\u001b[43m)\u001b[49m\u001b[43m,\u001b[49m\n\u001b[32m   1888\u001b[39m \u001b[43m    \u001b[49m\u001b[43mstorage_options\u001b[49m\u001b[43m=\u001b[49m\u001b[38;5;28;43mself\u001b[39;49m\u001b[43m.\u001b[49m\u001b[43moptions\u001b[49m\u001b[43m.\u001b[49m\u001b[43mget\u001b[49m\u001b[43m(\u001b[49m\u001b[33;43m\"\u001b[39;49m\u001b[33;43mstorage_options\u001b[39;49m\u001b[33;43m\"\u001b[39;49m\u001b[43m,\u001b[49m\u001b[43m \u001b[49m\u001b[38;5;28;43;01mNone\u001b[39;49;00m\u001b[43m)\u001b[49m\u001b[43m,\u001b[49m\n\u001b[32m   1889\u001b[39m \u001b[43m\u001b[49m\u001b[43m)\u001b[49m\n\u001b[32m   1890\u001b[39m \u001b[38;5;28;01massert\u001b[39;00m \u001b[38;5;28mself\u001b[39m.handles \u001b[38;5;129;01mis\u001b[39;00m \u001b[38;5;129;01mnot\u001b[39;00m \u001b[38;5;28;01mNone\u001b[39;00m\n\u001b[32m   1891\u001b[39m f = \u001b[38;5;28mself\u001b[39m.handles.handle\n",
      "\u001b[36mFile \u001b[39m\u001b[32m~\\AppData\\Local\\Programs\\Python\\Python312\\Lib\\site-packages\\pandas\\io\\common.py:873\u001b[39m, in \u001b[36mget_handle\u001b[39m\u001b[34m(path_or_buf, mode, encoding, compression, memory_map, is_text, errors, storage_options)\u001b[39m\n\u001b[32m    868\u001b[39m \u001b[38;5;28;01melif\u001b[39;00m \u001b[38;5;28misinstance\u001b[39m(handle, \u001b[38;5;28mstr\u001b[39m):\n\u001b[32m    869\u001b[39m     \u001b[38;5;66;03m# Check whether the filename is to be opened in binary mode.\u001b[39;00m\n\u001b[32m    870\u001b[39m     \u001b[38;5;66;03m# Binary mode does not support 'encoding' and 'newline'.\u001b[39;00m\n\u001b[32m    871\u001b[39m     \u001b[38;5;28;01mif\u001b[39;00m ioargs.encoding \u001b[38;5;129;01mand\u001b[39;00m \u001b[33m\"\u001b[39m\u001b[33mb\u001b[39m\u001b[33m\"\u001b[39m \u001b[38;5;129;01mnot\u001b[39;00m \u001b[38;5;129;01min\u001b[39;00m ioargs.mode:\n\u001b[32m    872\u001b[39m         \u001b[38;5;66;03m# Encoding\u001b[39;00m\n\u001b[32m--> \u001b[39m\u001b[32m873\u001b[39m         handle = \u001b[38;5;28;43mopen\u001b[39;49m\u001b[43m(\u001b[49m\n\u001b[32m    874\u001b[39m \u001b[43m            \u001b[49m\u001b[43mhandle\u001b[49m\u001b[43m,\u001b[49m\n\u001b[32m    875\u001b[39m \u001b[43m            \u001b[49m\u001b[43mioargs\u001b[49m\u001b[43m.\u001b[49m\u001b[43mmode\u001b[49m\u001b[43m,\u001b[49m\n\u001b[32m    876\u001b[39m \u001b[43m            \u001b[49m\u001b[43mencoding\u001b[49m\u001b[43m=\u001b[49m\u001b[43mioargs\u001b[49m\u001b[43m.\u001b[49m\u001b[43mencoding\u001b[49m\u001b[43m,\u001b[49m\n\u001b[32m    877\u001b[39m \u001b[43m            \u001b[49m\u001b[43merrors\u001b[49m\u001b[43m=\u001b[49m\u001b[43merrors\u001b[49m\u001b[43m,\u001b[49m\n\u001b[32m    878\u001b[39m \u001b[43m            \u001b[49m\u001b[43mnewline\u001b[49m\u001b[43m=\u001b[49m\u001b[33;43m\"\u001b[39;49m\u001b[33;43m\"\u001b[39;49m\u001b[43m,\u001b[49m\n\u001b[32m    879\u001b[39m \u001b[43m        \u001b[49m\u001b[43m)\u001b[49m\n\u001b[32m    880\u001b[39m     \u001b[38;5;28;01melse\u001b[39;00m:\n\u001b[32m    881\u001b[39m         \u001b[38;5;66;03m# Binary mode\u001b[39;00m\n\u001b[32m    882\u001b[39m         handle = \u001b[38;5;28mopen\u001b[39m(handle, ioargs.mode)\n",
      "\u001b[31mFileNotFoundError\u001b[39m: [Errno 2] No such file or directory: 'ratings.csv'"
     ]
    }
   ],
   "source": [
    "df = pd.read_csv('ratings.csv')  # ✅ Replace with your real filename\n"
   ]
  },
  {
   "cell_type": "code",
   "execution_count": 10,
   "id": "950eb103-35fa-4775-b881-c5fc918d3406",
   "metadata": {},
   "outputs": [],
   "source": [
    "import pandas as pd\n",
    "\n",
    "# Sample ratings data\n",
    "data = {\n",
    "    'user_id': ['U1', 'U1', 'U2', 'U2', 'U3', 'U3'],\n",
    "    'item_id': ['I1', 'I2', 'I1', 'I3', 'I2', 'I4'],\n",
    "    'rating': [4, 5, 5, 3, 2, 4]\n",
    "}\n",
    "\n",
    "df = pd.DataFrame(data)\n"
   ]
  },
  {
   "cell_type": "code",
   "execution_count": 11,
   "id": "e8bcb497-5118-4b9b-b74d-8d861c902c38",
   "metadata": {},
   "outputs": [
    {
     "name": "stdout",
     "output_type": "stream",
     "text": [
      "  user_id item_id  rating\n",
      "0      U1      I1       4\n",
      "1      U1      I2       5\n",
      "2      U2      I1       5\n",
      "3      U2      I3       3\n",
      "4      U3      I2       2\n",
      "5      U3      I4       4\n"
     ]
    }
   ],
   "source": [
    "import pandas as pd\n",
    "\n",
    "# Create sample data directly in the notebook\n",
    "data = {\n",
    "    'user_id': ['U1', 'U1', 'U2', 'U2', 'U3', 'U3'],\n",
    "    'item_id': ['I1', 'I2', 'I1', 'I3', 'I2', 'I4'],\n",
    "    'rating': [4, 5, 5, 3, 2, 4]\n",
    "}\n",
    "\n",
    "df = pd.DataFrame(data)\n",
    "print(df)\n"
   ]
  },
  {
   "cell_type": "code",
   "execution_count": 12,
   "id": "48036844-0042-47c4-82fc-7f8eb4dce881",
   "metadata": {},
   "outputs": [],
   "source": [
    "import pandas as pd\n",
    "from surprise import Dataset, Reader, SVD\n",
    "from surprise.model_selection import train_test_split\n",
    "\n",
    "# Step 1: Your dataset\n",
    "data = {\n",
    "    'user_id': ['U1', 'U1', 'U2', 'U2', 'U3', 'U3'],\n",
    "    'item_id': ['I1', 'I2', 'I1', 'I3', 'I2', 'I4'],\n",
    "    'rating': [4, 5, 5, 3, 2, 4]\n",
    "}\n",
    "df = pd.DataFrame(data)\n",
    "\n",
    "# Step 2: Define a Reader\n",
    "reader = Reader(rating_scale=(1, 5))\n",
    "\n",
    "# Step 3: Load dataset into Surprise format\n",
    "data = Dataset.load_from_df(df[['user_id', 'item_id', 'rating']], reader)\n",
    "\n",
    "# Step 4: Train-test split\n",
    "trainset, testset = train_test_split(data, test_size=0.25, random_state=42)\n",
    "\n",
    "# Step 5: Use SVD algorithm\n",
    "model = SVD()\n",
    "model.fit(trainset)\n",
    "\n",
    "# Step 6: Predict ratings for the test set\n",
    "predictions = model.test(testset)\n",
    "\n",
    "# Step 7: Predict unseen items for a specific user (e.g., 'U1')\n",
    "all_items = df['item_id'].unique()\n",
    "rated_items_by_U1 = df[df['user_id'] == 'U1']['item_id'].tolist()\n",
    "unrated_items = [item for item in all_items if item not in rated_items_by_U1]\n",
    "\n",
    "user_predictions = []\n",
    "for item_id in unrated_items:\n",
    "    pred = model.predict('U1', item_id)\n",
    "    user_predictions.append((item_id, pred.est))\n",
    "\n",
    "# Step 8: Show top recommendations\n",
    "top_recommendations = pd.DataFrame(user_predictions, columns=['item_id', 'predicted_rating'])\n",
    "top_recommendations =_\n"
   ]
  },
  {
   "cell_type": "code",
   "execution_count": 13,
   "id": "65d59a29-ae46-4a1e-a43c-e67b13d68bb7",
   "metadata": {},
   "outputs": [],
   "source": [
    "import pandas as pd\n",
    "from surprise import Dataset, Reader, SVD\n",
    "from surprise.model_selection import train_test_split\n",
    "\n",
    "# Step 1: Your dataset\n",
    "data = {\n",
    "    'user_id': ['U1', 'U1', 'U2', 'U2', 'U3', 'U3'],\n",
    "    'item_id': ['I1', 'I2', 'I1', 'I3', 'I2', 'I4'],\n",
    "    'rating': [4, 5, 5, 3, 2, 4]\n",
    "}\n",
    "df = pd.DataFrame(data)\n",
    "\n",
    "# Step 2: Define a Reader\n",
    "reader = Reader(rating_scale=(1, 5))\n",
    "\n",
    "# Step 3: Load dataset into Surprise format\n",
    "data = Dataset.load_from_df(df[['user_id', 'item_id', 'rating']], reader)\n",
    "\n",
    "# Step 4: Train-test split\n",
    "trainset, testset = train_test_split(data, test_size=0.25, random_state=42)\n",
    "\n",
    "# Step 5: Use SVD algorithm\n",
    "model = SVD()\n",
    "model.fit(trainset)\n",
    "\n",
    "# Step 6: Predict ratings for the test set\n",
    "predictions = model.test(testset)\n",
    "\n",
    "# Step 7: Predict unseen items for a specific user (e.g., 'U1')\n",
    "all_items = df['item_id'].unique()\n",
    "rated_items_by_U1 = df[df['user_id'] == 'U1']['item_id'].tolist()\n",
    "unrated_items = [item for item in all_items if item not in rated_items_by_U1]\n",
    "\n",
    "user_predictions = []\n",
    "for item_id in unrated_items:\n",
    "    pred = model.predict('U1', item_id)\n",
    "    user_predictions.append((item_id, pred.est))\n",
    "\n",
    "# Step 8: Show top recommendations\n",
    "top_recommendations = pd.DataFrame(user_predictions, columns=['item_id', 'predicted_rating'])\n",
    "top_recommendations =_\n"
   ]
  },
  {
   "cell_type": "code",
   "execution_count": 14,
   "id": "194ade8a-1391-40fd-b386-eb4dd040dad6",
   "metadata": {},
   "outputs": [
    {
     "name": "stdout",
     "output_type": "stream",
     "text": [
      "\n",
      "Top recommendations for user 'U1':\n",
      "  item_id  predicted_rating\n",
      "0      I3          4.494297\n",
      "1      I4          4.456741\n"
     ]
    }
   ],
   "source": [
    "\n",
    "import pandas as pd\n",
    "from surprise import Dataset, Reader, SVD\n",
    "from surprise.model_selection import train_test_split\n",
    "\n",
    "# Step 1: Your dataset\n",
    "data = {\n",
    "    'user_id': ['U1', 'U1', 'U2', 'U2', 'U3', 'U3'],\n",
    "    'item_id': ['I1', 'I2', 'I1', 'I3', 'I2', 'I4'],\n",
    "    'rating': [4, 5, 5, 3, 2, 4]\n",
    "}\n",
    "df = pd.DataFrame(data)\n",
    "\n",
    "# Step 2: Define a Reader\n",
    "reader = Reader(rating_scale=(1, 5))\n",
    "\n",
    "# Step 3: Load dataset into Surprise format\n",
    "surprise_data = Dataset.load_from_df(df[['user_id', 'item_id', 'rating']], reader)\n",
    "\n",
    "# Step 4: Train-test split\n",
    "trainset, testset = train_test_split(surprise_data, test_size=0.25, random_state=42)\n",
    "\n",
    "# Step 5: Use SVD algorithm\n",
    "model = SVD()\n",
    "model.fit(trainset)\n",
    "\n",
    "# Step 6: Predict unseen items for user 'U1'\n",
    "all_items = df['item_id'].unique()\n",
    "rated_items_by_U1 = df[df['user_id'] == 'U1']['item_id'].tolist()\n",
    "unrated_items = [item for item in all_items if item not in rated_items_by_U1]\n",
    "\n",
    "# Step 7: Predict and collect recommendations\n",
    "user_predictions = []\n",
    "for item_id in unrated_items:\n",
    "    prediction = model.predict('U1', item_id)\n",
    "    user_predictions.append((item_id, prediction.est))\n",
    "\n",
    "# Step 8: Sort and show top recommendations\n",
    "top_recommendations = pd.DataFrame(user_predictions, columns=['item_id', 'predicted_rating'])\n",
    "top_recommendations = top_recommendations.sort_values(by='predicted_rating', ascending=False)\n",
    "\n",
    "# ✅ FINAL OUTPUT\n",
    "print(\"\\nTop recommendations for user 'U1':\")\n",
    "print(top_recommendations)\n"
   ]
  },
  {
   "cell_type": "code",
   "execution_count": 15,
   "id": "dec3c1b0-5a00-47f2-aef5-a6c644c7bd95",
   "metadata": {},
   "outputs": [
    {
     "ename": "AttributeError",
     "evalue": "'dict' object has no attribute 'build_full_trainset'",
     "output_type": "error",
     "traceback": [
      "\u001b[31m------------------------------------------------------------------------\u001b[39m",
      "\u001b[31mAttributeError\u001b[39m                         Traceback (most recent call last)",
      "\u001b[36mCell\u001b[39m\u001b[36m \u001b[39m\u001b[32mIn[15]\u001b[39m\u001b[32m, line 18\u001b[39m\n\u001b[32m     15\u001b[39m     \u001b[38;5;28;01mreturn\u001b[39;00m top_n\n\u001b[32m     17\u001b[39m \u001b[38;5;66;03m# Build full trainset\u001b[39;00m\n\u001b[32m---> \u001b[39m\u001b[32m18\u001b[39m trainset = \u001b[43mdata\u001b[49m\u001b[43m.\u001b[49m\u001b[43mbuild_full_trainset\u001b[49m()\n\u001b[32m     19\u001b[39m model.fit(trainset)\n\u001b[32m     21\u001b[39m \u001b[38;5;66;03m# Predict ratings for all pairs not in the training set\u001b[39;00m\n",
      "\u001b[31mAttributeError\u001b[39m: 'dict' object has no attribute 'build_full_trainset'"
     ]
    }
   ],
   "source": [
    "from collections import defaultdict\n",
    "\n",
    "def get_top_n(predictions, n=2):\n",
    "    top_n = defaultdict(list)\n",
    "\n",
    "    # Group predictions by user\n",
    "    for uid, iid, true_r, est, _ in predictions:\n",
    "        top_n[uid].append((iid, est))\n",
    "\n",
    "    # Sort and get top N for each user\n",
    "    for uid, user_ratings in top_n.items():\n",
    "        user_ratings.sort(key=lambda x: x[1], reverse=True)\n",
    "        top_n[uid] = user_ratings[:n]\n",
    "    \n",
    "    return top_n\n",
    "\n",
    "# Build full trainset\n",
    "trainset = data.build_full_trainset()\n",
    "model.fit(trainset)\n",
    "\n",
    "# Predict ratings for all pairs not in the training set\n",
    "testset = trainset.build_anti_testset()\n",
    "predictions = model.test(testset)\n",
    "\n",
    "top_n = get_top_n(predictions, n=2)\n",
    "\n",
    "# Display\n",
    "for user, recs in top_n.items():\n",
    "    print(f\"\\nTop recommendations for user {user}:\")\n",
    "    for iid, rating in recs:\n",
    "        print(f\"  {iid} → predicted rating: {rating:.2f}\")\n"
   ]
  },
  {
   "cell_type": "code",
   "execution_count": 16,
   "id": "e44a9970-c6bd-40d8-b0b7-5856ffc48a62",
   "metadata": {},
   "outputs": [
    {
     "ename": "NameError",
     "evalue": "name 'top_n' is not defined",
     "output_type": "error",
     "traceback": [
      "\u001b[31m------------------------------------------------------------------------\u001b[39m",
      "\u001b[31mNameError\u001b[39m                              Traceback (most recent call last)",
      "\u001b[36mCell\u001b[39m\u001b[36m \u001b[39m\u001b[32mIn[16]\u001b[39m\u001b[32m, line 3\u001b[39m\n\u001b[32m      1\u001b[39m top_n_list = []\n\u001b[32m----> \u001b[39m\u001b[32m3\u001b[39m \u001b[38;5;28;01mfor\u001b[39;00m user, recs \u001b[38;5;129;01min\u001b[39;00m \u001b[43mtop_n\u001b[49m.items():\n\u001b[32m      4\u001b[39m     \u001b[38;5;28;01mfor\u001b[39;00m iid, rating \u001b[38;5;129;01min\u001b[39;00m recs:\n\u001b[32m      5\u001b[39m         top_n_list.append({\u001b[33m'\u001b[39m\u001b[33muser_id\u001b[39m\u001b[33m'\u001b[39m: user, \u001b[33m'\u001b[39m\u001b[33mitem_id\u001b[39m\u001b[33m'\u001b[39m: iid, \u001b[33m'\u001b[39m\u001b[33mpredicted_rating\u001b[39m\u001b[33m'\u001b[39m: \u001b[38;5;28mround\u001b[39m(rating, \u001b[32m2\u001b[39m)})\n",
      "\u001b[31mNameError\u001b[39m: name 'top_n' is not defined"
     ]
    }
   ],
   "source": [
    "top_n_list = []\n",
    "\n",
    "for user, recs in top_n.items():\n",
    "    for iid, rating in recs:\n",
    "        top_n_list.append({'user_id': user, 'item_id': iid, 'predicted_rating': round(rating, 2)})\n",
    "\n",
    "df_recommendations = pd.DataFrame(top_n_list)\n",
    "df_recommendations.to_csv('top_recommendations.csv', index=False)\n"
   ]
  },
  {
   "cell_type": "code",
   "execution_count": 17,
   "id": "41fa23f4-b355-4f37-a3c7-955c88e63a3c",
   "metadata": {},
   "outputs": [
    {
     "name": "stdout",
     "output_type": "stream",
     "text": [
      "Computing the msd similarity matrix...\n",
      "Done computing similarity matrix.\n"
     ]
    },
    {
     "ename": "NameError",
     "evalue": "name 'accuracy' is not defined",
     "output_type": "error",
     "traceback": [
      "\u001b[31m------------------------------------------------------------------------\u001b[39m",
      "\u001b[31mNameError\u001b[39m                              Traceback (most recent call last)",
      "\u001b[36mCell\u001b[39m\u001b[36m \u001b[39m\u001b[32mIn[17]\u001b[39m\u001b[32m, line 7\u001b[39m\n\u001b[32m      5\u001b[39m knn_model.fit(trainset)\n\u001b[32m      6\u001b[39m knn_preds = knn_model.test(testset)\n\u001b[32m----> \u001b[39m\u001b[32m7\u001b[39m \u001b[43maccuracy\u001b[49m.rmse(knn_preds)\n\u001b[32m      9\u001b[39m \u001b[38;5;66;03m# NMF model\u001b[39;00m\n\u001b[32m     10\u001b[39m nmf_model = NMF()\n",
      "\u001b[31mNameError\u001b[39m: name 'accuracy' is not defined"
     ]
    }
   ],
   "source": [
    "from surprise import KNNBasic, NMF\n",
    "\n",
    "# KNN model\n",
    "knn_model = KNNBasic()\n",
    "knn_model.fit(trainset)\n",
    "knn_preds = knn_model.test(testset)\n",
    "accuracy.rmse(knn_preds)\n",
    "\n",
    "# NMF model\n",
    "nmf_model = NMF()\n",
    "nmf_model.fit(trainset)\n",
    "nmf_preds = nmf_model.test(testset)\n",
    "accuracy.rmse(nmf_preds)\n"
   ]
  },
  {
   "cell_type": "code",
   "execution_count": 18,
   "id": "70c4a5a5-d0ec-4837-b200-be1b5a89e6d4",
   "metadata": {},
   "outputs": [
    {
     "data": {
      "text/plain": [
       "<surprise.prediction_algorithms.matrix_factorization.SVD at 0x1dbde1a4410>"
      ]
     },
     "execution_count": 18,
     "metadata": {},
     "output_type": "execute_result"
    }
   ],
   "source": [
    "more_data = [\n",
    "    {'user_id': 'U1', 'item_id': 'I5', 'rating': 4},\n",
    "    {'user_id': 'U4', 'item_id': 'I2', 'rating': 5}\n",
    "]\n",
    "\n",
    "df_new = pd.concat([df, pd.DataFrame(more_data)], ignore_index=True)\n",
    "\n",
    "reader = Reader(rating_scale=(1, 5))\n",
    "data = Dataset.load_from_df(df_new[['user_id', 'item_id', 'rating']], reader)\n",
    "\n",
    "# Retrain model\n",
    "trainset = data.build_full_trainset()\n",
    "model.fit(trainset)\n",
    "\n"
   ]
  },
  {
   "cell_type": "code",
   "execution_count": 19,
   "id": "ef5ecd1d-3196-47fb-94fe-9be05cca8a76",
   "metadata": {},
   "outputs": [
    {
     "name": "stdout",
     "output_type": "stream",
     "text": [
      "RMSE: 0.8686\n",
      "MAE:  0.6390\n"
     ]
    }
   ],
   "source": [
    "from surprise.model_selection import train_test_split\n",
    "from surprise import accuracy\n",
    "\n",
    "# Train-test split\n",
    "trainset, testset = train_test_split(data, test_size=0.25)\n",
    "\n",
    "# Train model\n",
    "model.fit(trainset)\n",
    "\n",
    "# Predict on testset\n",
    "predictions = model.test(testset)\n",
    "\n",
    "# Calculate errors\n",
    "rmse = accuracy.rmse(predictions)\n",
    "mae = accuracy.mae(predictions)\n"
   ]
  },
  {
   "cell_type": "code",
   "execution_count": 20,
   "id": "08b3529e-af3b-4347-8208-3c7420a076d2",
   "metadata": {},
   "outputs": [
    {
     "ename": "NameError",
     "evalue": "name 'top_n' is not defined",
     "output_type": "error",
     "traceback": [
      "\u001b[31m------------------------------------------------------------------------\u001b[39m",
      "\u001b[31mNameError\u001b[39m                              Traceback (most recent call last)",
      "\u001b[36mCell\u001b[39m\u001b[36m \u001b[39m\u001b[32mIn[20]\u001b[39m\u001b[32m, line 3\u001b[39m\n\u001b[32m      1\u001b[39m top_n_list = []\n\u001b[32m----> \u001b[39m\u001b[32m3\u001b[39m \u001b[38;5;28;01mfor\u001b[39;00m user, recs \u001b[38;5;129;01min\u001b[39;00m \u001b[43mtop_n\u001b[49m.items():\n\u001b[32m      4\u001b[39m     \u001b[38;5;28;01mfor\u001b[39;00m iid, rating \u001b[38;5;129;01min\u001b[39;00m recs:\n\u001b[32m      5\u001b[39m         top_n_list.append({\u001b[33m'\u001b[39m\u001b[33muser_id\u001b[39m\u001b[33m'\u001b[39m: user, \u001b[33m'\u001b[39m\u001b[33mitem_id\u001b[39m\u001b[33m'\u001b[39m: iid, \u001b[33m'\u001b[39m\u001b[33mpredicted_rating\u001b[39m\u001b[33m'\u001b[39m: \u001b[38;5;28mround\u001b[39m(rating, \u001b[32m2\u001b[39m)})\n",
      "\u001b[31mNameError\u001b[39m: name 'top_n' is not defined"
     ]
    }
   ],
   "source": [
    "top_n_list = []\n",
    "\n",
    "for user, recs in top_n.items():\n",
    "    for iid, rating in recs:\n",
    "        top_n_list.append({'user_id': user, 'item_id': iid, 'predicted_rating': round(rating, 2)})\n",
    "\n",
    "# Display as DataFrame\n",
    "pd.DataFrame(top_n_list)\n"
   ]
  },
  {
   "cell_type": "code",
   "execution_count": 21,
   "id": "e54016d6-2ca3-439d-b9ee-165b6e3a16bb",
   "metadata": {},
   "outputs": [],
   "source": [
    "from surprise import accuracy\n"
   ]
  },
  {
   "cell_type": "code",
   "execution_count": 22,
   "id": "977d3be8-34ef-4e12-888b-3ccece14c21b",
   "metadata": {},
   "outputs": [
    {
     "name": "stdout",
     "output_type": "stream",
     "text": [
      "RMSE: 2.0616\n"
     ]
    },
    {
     "data": {
      "text/plain": [
       "2.0615528128088303"
      ]
     },
     "execution_count": 22,
     "metadata": {},
     "output_type": "execute_result"
    }
   ],
   "source": [
    "accuracy.rmse(knn_preds)\n"
   ]
  },
  {
   "cell_type": "code",
   "execution_count": 23,
   "id": "7e25ba00-d776-4d03-acdd-9d6f73442158",
   "metadata": {},
   "outputs": [],
   "source": [
    "from surprise import accuracy\n"
   ]
  },
  {
   "cell_type": "code",
   "execution_count": 25,
   "id": "95b034e5-1f60-46e1-a08f-9765765acda1",
   "metadata": {},
   "outputs": [],
   "source": [
    "top_n = get_top_n(predictions, n=2)\n",
    "\n"
   ]
  },
  {
   "cell_type": "code",
   "execution_count": 26,
   "id": "d6b32961-2e49-43eb-833a-5cc942b375b6",
   "metadata": {},
   "outputs": [
    {
     "data": {
      "text/html": [
       "<div>\n",
       "<style scoped>\n",
       "    .dataframe tbody tr th:only-of-type {\n",
       "        vertical-align: middle;\n",
       "    }\n",
       "\n",
       "    .dataframe tbody tr th {\n",
       "        vertical-align: top;\n",
       "    }\n",
       "\n",
       "    .dataframe thead th {\n",
       "        text-align: right;\n",
       "    }\n",
       "</style>\n",
       "<table border=\"1\" class=\"dataframe\">\n",
       "  <thead>\n",
       "    <tr style=\"text-align: right;\">\n",
       "      <th></th>\n",
       "      <th>user_id</th>\n",
       "      <th>item_id</th>\n",
       "      <th>predicted_rating</th>\n",
       "    </tr>\n",
       "  </thead>\n",
       "  <tbody>\n",
       "    <tr>\n",
       "      <th>0</th>\n",
       "      <td>U2</td>\n",
       "      <td>I1</td>\n",
       "      <td>3.77</td>\n",
       "    </tr>\n",
       "    <tr>\n",
       "      <th>1</th>\n",
       "      <td>U1</td>\n",
       "      <td>I1</td>\n",
       "      <td>3.95</td>\n",
       "    </tr>\n",
       "  </tbody>\n",
       "</table>\n",
       "</div>"
      ],
      "text/plain": [
       "  user_id item_id  predicted_rating\n",
       "0      U2      I1              3.77\n",
       "1      U1      I1              3.95"
      ]
     },
     "execution_count": 26,
     "metadata": {},
     "output_type": "execute_result"
    }
   ],
   "source": [
    "top_n_list = []\n",
    "for user, recs in top_n.items():\n",
    "    for iid, rating in recs:\n",
    "        top_n_list.append({'user_id': user, 'item_id': iid, 'predicted_rating': round(rating, 2)})\n",
    "\n",
    "pd.DataFrame(top_n_list)\n",
    "\n"
   ]
  },
  {
   "cell_type": "code",
   "execution_count": 27,
   "id": "954dda33-f2b3-45d9-a2b1-80d54c65d291",
   "metadata": {},
   "outputs": [],
   "source": [
    "def get_top_n(predictions, n=10):\n",
    "    from collections import defaultdict\n",
    "    top_n = defaultdict(list)\n",
    "    for uid, iid, true_r, est, _ in predictions:\n",
    "        top_n[uid].append((iid, est))\n",
    "    for uid, user_ratings in top_n.items():\n",
    "        user_ratings.sort(key=lambda x: x[1], reverse=True)\n",
    "        top_n[uid] = user_ratings[:n]\n",
    "    return top_n\n"
   ]
  },
  {
   "cell_type": "code",
   "execution_count": 28,
   "id": "8b9043c0-fd5b-4017-b15f-b16f4569db8a",
   "metadata": {},
   "outputs": [],
   "source": [
    "top_n = get_top_n(predictions, n=2)  # or n=5, etc.\n"
   ]
  },
  {
   "cell_type": "code",
   "execution_count": 29,
   "id": "b3c3a4f7-a239-4d56-a8f5-88ba4ed4015a",
   "metadata": {},
   "outputs": [
    {
     "data": {
      "text/html": [
       "<div>\n",
       "<style scoped>\n",
       "    .dataframe tbody tr th:only-of-type {\n",
       "        vertical-align: middle;\n",
       "    }\n",
       "\n",
       "    .dataframe tbody tr th {\n",
       "        vertical-align: top;\n",
       "    }\n",
       "\n",
       "    .dataframe thead th {\n",
       "        text-align: right;\n",
       "    }\n",
       "</style>\n",
       "<table border=\"1\" class=\"dataframe\">\n",
       "  <thead>\n",
       "    <tr style=\"text-align: right;\">\n",
       "      <th></th>\n",
       "      <th>user_id</th>\n",
       "      <th>item_id</th>\n",
       "      <th>predicted_rating</th>\n",
       "    </tr>\n",
       "  </thead>\n",
       "  <tbody>\n",
       "    <tr>\n",
       "      <th>0</th>\n",
       "      <td>U2</td>\n",
       "      <td>I1</td>\n",
       "      <td>3.77</td>\n",
       "    </tr>\n",
       "    <tr>\n",
       "      <th>1</th>\n",
       "      <td>U1</td>\n",
       "      <td>I1</td>\n",
       "      <td>3.95</td>\n",
       "    </tr>\n",
       "  </tbody>\n",
       "</table>\n",
       "</div>"
      ],
      "text/plain": [
       "  user_id item_id  predicted_rating\n",
       "0      U2      I1              3.77\n",
       "1      U1      I1              3.95"
      ]
     },
     "execution_count": 29,
     "metadata": {},
     "output_type": "execute_result"
    }
   ],
   "source": [
    "top_n_list = []\n",
    "\n",
    "for user, recs in top_n.items():\n",
    "    for iid, rating in recs:\n",
    "        top_n_list.append({\n",
    "            'user_id': user,\n",
    "            'item_id': iid,\n",
    "            'predicted_rating': round(rating, 2)\n",
    "        })\n",
    "\n",
    "pd.DataFrame(top_n_list)\n"
   ]
  },
  {
   "cell_type": "code",
   "execution_count": 30,
   "id": "8fca12ef-bf7b-4416-8917-4dcb9ae760d3",
   "metadata": {},
   "outputs": [
    {
     "name": "stdout",
     "output_type": "stream",
     "text": [
      "  user_id item_id  predicted_rating\n",
      "0      U4      I4              4.00\n",
      "1      U4      I5              3.81\n",
      "2      U1      I3              4.07\n",
      "3      U1      I4              3.82\n",
      "4      U3      I3              3.62\n",
      "5      U3      I5              3.60\n",
      "6      U2      I2              3.87\n",
      "7      U2      I5              3.80\n"
     ]
    }
   ],
   "source": [
    "from collections import defaultdict\n",
    "\n",
    "def get_top_n(predictions, n=3):\n",
    "    top_n = defaultdict(list)\n",
    "    for uid, iid, true_r, est, _ in predictions:\n",
    "        top_n[uid].append((iid, est))\n",
    "\n",
    "    # Sort and get top-n\n",
    "    for uid, user_ratings in top_n.items():\n",
    "        user_ratings.sort(key=lambda x: x[1], reverse=True)\n",
    "        top_n[uid] = user_ratings[:n]\n",
    "    return top_n\n",
    "\n",
    "# Generate predictions for testset\n",
    "testset = trainset.build_anti_testset()\n",
    "predictions = model.test(testset)\n",
    "\n",
    "# Get top-N\n",
    "top_n = get_top_n(predictions, n=2)\n",
    "\n",
    "# Display as DataFrame\n",
    "top_n_list = []\n",
    "for user, recs in top_n.items():\n",
    "    for iid, rating in recs:\n",
    "        top_n_list.append({'user_id': user, 'item_id': iid, 'predicted_rating': round(rating, 2)})\n",
    "\n",
    "top_n_df = pd.DataFrame(top_n_list)\n",
    "print(top_n_df)\n"
   ]
  },
  {
   "cell_type": "code",
   "execution_count": 31,
   "id": "7cb472ec-dfeb-44c7-83bb-38031f9556bd",
   "metadata": {},
   "outputs": [
    {
     "data": {
      "image/png": "[encoded data removed]",
      "text/plain": [
       "<Figure size 640x480 with 1 Axes>"
      ]
     },
     "metadata": {},
     "output_type": "display_data"
    }
   ],
   "source": [
    "import seaborn as sns\n",
    "import matplotlib.pyplot as plt\n",
    "\n",
    "sns.barplot(x='item_id', y='predicted_rating', hue='user_id', data=top_n_df)\n",
    "plt.title(\"Top Recommended Items by User\")\n",
    "plt.show()\n"
   ]
  },
  {
   "cell_type": "code",
   "execution_count": 32,
   "id": "e2b6c8a6-3e93-4cb5-b51b-9a1dc0e03fb4",
   "metadata": {},
   "outputs": [
    {
     "data": {
      "image/png": "[encoded data removed]",
      "text/plain": [
       "<Figure size 1000x600 with 1 Axes>"
      ]
     },
     "metadata": {},
     "output_type": "display_data"
    }
   ],
   "source": [
    "import seaborn as sns\n",
    "import matplotlib.pyplot as plt\n",
    "\n",
    "plt.figure(figsize=(10,6))\n",
    "sns.barplot(x='item_id', y='predicted_rating', hue='user_id', data=top_n_df)\n",
    "plt.title(\"Top Recommended Items for Each User\")\n",
    "plt.ylabel(\"Predicted Rating\")\n",
    "plt.xlabel(\"Item ID\")\n",
    "plt.legend(title='User ID')\n",
    "plt.show()\n"
   ]
  },
  {
   "cell_type": "code",
   "execution_count": null,
   "id": "bcfeeef4-3edc-4bd9-946d-fcb8e2de0cb6",
   "metadata": {},
   "outputs": [],
   "source": []
  },
  {
   "cell_type": "code",
   "execution_count": 33,
   "id": "4ad6d66a-e5d1-436d-b928-82a6e1f6ac34",
   "metadata": {},
   "outputs": [],
   "source": [
    "top_n_df.to_csv(\"user_recommendations.csv\", index=False)\n"
   ]
  },
  {
   "cell_type": "code",
   "execution_count": 34,
   "id": "b9c5c695-8e1b-4e47-b304-2dc36c8bcf62",
   "metadata": {},
   "outputs": [
    {
     "name": "stdout",
     "output_type": "stream",
     "text": [
      "Computing the msd similarity matrix...\n",
      "Done computing similarity matrix.\n"
     ]
    }
   ],
   "source": [
    "from surprise import KNNBasic, NMF\n",
    "\n",
    "# KNN\n",
    "knn_model = KNNBasic()\n",
    "knn_model.fit(trainset)\n",
    "knn_preds = knn_model.test(testset)\n",
    "\n",
    "# NMF\n",
    "nmf_model = NMF()\n",
    "nmf_model.fit(trainset)\n",
    "nmf_preds = nmf_model.test(testset)\n"
   ]
  },
  {
   "cell_type": "code",
   "execution_count": 35,
   "id": "fdca01e5-4fbf-44f7-9949-9c8c7b053a11",
   "metadata": {},
   "outputs": [],
   "source": [
    "# Predict on the testset\n",
    "knn_predictions = knn_model.test(testset)\n"
   ]
  },
  {
   "cell_type": "code",
   "execution_count": 36,
   "id": "6c3b90e7-12dc-415d-be47-976a70b8e699",
   "metadata": {},
   "outputs": [
    {
     "name": "stdout",
     "output_type": "stream",
     "text": [
      "RMSE: 0.1054\n",
      "KNN RMSE: 0.10540925533894588\n",
      "MAE:  0.0667\n",
      "KNN MAE: 0.06666666666666661\n"
     ]
    }
   ],
   "source": [
    "from surprise import accuracy\n",
    "\n",
    "print(\"KNN RMSE:\", accuracy.rmse(knn_predictions))\n",
    "print(\"KNN MAE:\", accuracy.mae(knn_predictions))\n"
   ]
  },
  {
   "cell_type": "code",
   "execution_count": 37,
   "id": "f32214f9-16e0-493b-8c8b-ca40089874c0",
   "metadata": {},
   "outputs": [
    {
     "data": {
      "text/html": [
       "<div>\n",
       "<style scoped>\n",
       "    .dataframe tbody tr th:only-of-type {\n",
       "        vertical-align: middle;\n",
       "    }\n",
       "\n",
       "    .dataframe tbody tr th {\n",
       "        vertical-align: top;\n",
       "    }\n",
       "\n",
       "    .dataframe thead th {\n",
       "        text-align: right;\n",
       "    }\n",
       "</style>\n",
       "<table border=\"1\" class=\"dataframe\">\n",
       "  <thead>\n",
       "    <tr style=\"text-align: right;\">\n",
       "      <th></th>\n",
       "      <th>user_id</th>\n",
       "      <th>item_id</th>\n",
       "      <th>predicted_rating</th>\n",
       "    </tr>\n",
       "  </thead>\n",
       "  <tbody>\n",
       "    <tr>\n",
       "      <th>0</th>\n",
       "      <td>U4</td>\n",
       "      <td>I4</td>\n",
       "      <td>4.00</td>\n",
       "    </tr>\n",
       "    <tr>\n",
       "      <th>1</th>\n",
       "      <td>U4</td>\n",
       "      <td>I5</td>\n",
       "      <td>4.00</td>\n",
       "    </tr>\n",
       "    <tr>\n",
       "      <th>2</th>\n",
       "      <td>U1</td>\n",
       "      <td>I4</td>\n",
       "      <td>4.00</td>\n",
       "    </tr>\n",
       "    <tr>\n",
       "      <th>3</th>\n",
       "      <td>U1</td>\n",
       "      <td>I3</td>\n",
       "      <td>3.83</td>\n",
       "    </tr>\n",
       "    <tr>\n",
       "      <th>4</th>\n",
       "      <td>U3</td>\n",
       "      <td>I5</td>\n",
       "      <td>4.00</td>\n",
       "    </tr>\n",
       "    <tr>\n",
       "      <th>5</th>\n",
       "      <td>U3</td>\n",
       "      <td>I3</td>\n",
       "      <td>3.83</td>\n",
       "    </tr>\n",
       "    <tr>\n",
       "      <th>6</th>\n",
       "      <td>U2</td>\n",
       "      <td>I2</td>\n",
       "      <td>3.83</td>\n",
       "    </tr>\n",
       "    <tr>\n",
       "      <th>7</th>\n",
       "      <td>U2</td>\n",
       "      <td>I4</td>\n",
       "      <td>3.83</td>\n",
       "    </tr>\n",
       "  </tbody>\n",
       "</table>\n",
       "</div>"
      ],
      "text/plain": [
       "  user_id item_id  predicted_rating\n",
       "0      U4      I4              4.00\n",
       "1      U4      I5              4.00\n",
       "2      U1      I4              4.00\n",
       "3      U1      I3              3.83\n",
       "4      U3      I5              4.00\n",
       "5      U3      I3              3.83\n",
       "6      U2      I2              3.83\n",
       "7      U2      I4              3.83"
      ]
     },
     "metadata": {},
     "output_type": "display_data"
    }
   ],
   "source": [
    "from collections import defaultdict\n",
    "\n",
    "def get_top_n(predictions, n=2):\n",
    "    top_n = defaultdict(list)\n",
    "    for uid, iid, true_r, est, _ in predictions:\n",
    "        top_n[uid].append((iid, est))\n",
    "\n",
    "    # Keep top n\n",
    "    for uid, user_ratings in top_n.items():\n",
    "        user_ratings.sort(key=lambda x: x[1], reverse=True)\n",
    "        top_n[uid] = user_ratings[:n]\n",
    "    \n",
    "    return top_n\n",
    "\n",
    "top_n_knn = get_top_n(knn_predictions, n=2)\n",
    "\n",
    "# Convert to DataFrame\n",
    "top_n_list_knn = []\n",
    "for user, recs in top_n_knn.items():\n",
    "    for iid, rating in recs:\n",
    "        top_n_list_knn.append({'user_id': user, 'item_id': iid, 'predicted_rating': round(rating, 2)})\n",
    "\n",
    "top_n_df_knn = pd.DataFrame(top_n_list_knn)\n",
    "display(top_n_df_knn)\n"
   ]
  },
  {
   "cell_type": "code",
   "execution_count": 38,
   "id": "290d50bb-1eca-4a4e-8128-5d5ad1732607",
   "metadata": {},
   "outputs": [],
   "source": [
    "top_n_df_knn.to_csv(\"top_recommendations_knn.csv\", index=False)\n"
   ]
  },
  {
   "cell_type": "code",
   "execution_count": 39,
   "id": "7cc70448-77b3-4ff4-a201-792cea156444",
   "metadata": {},
   "outputs": [
    {
     "ename": "NameError",
     "evalue": "name 'final_recommendations' is not defined",
     "output_type": "error",
     "traceback": [
      "\u001b[31m------------------------------------------------------------------------\u001b[39m",
      "\u001b[31mNameError\u001b[39m                              Traceback (most recent call last)",
      "\u001b[36mCell\u001b[39m\u001b[36m \u001b[39m\u001b[32mIn[39]\u001b[39m\u001b[32m, line 1\u001b[39m\n\u001b[32m----> \u001b[39m\u001b[32m1\u001b[39m \u001b[43mfinal_recommendations\u001b[49m.to_csv(\u001b[33m\"\u001b[39m\u001b[33mfinal_recommendations.csv\u001b[39m\u001b[33m\"\u001b[39m, index=\u001b[38;5;28;01mFalse\u001b[39;00m)\n",
      "\u001b[31mNameError\u001b[39m: name 'final_recommendations' is not defined"
     ]
    }
   ],
   "source": [
    "final_recommendations.to_csv(\"final_recommendations.csv\", index=False)\n"
   ]
  },
  {
   "cell_type": "code",
   "execution_count": 40,
   "id": "31278e1a-2ec7-4058-a5c9-e0c4902ba610",
   "metadata": {},
   "outputs": [],
   "source": [
    "import pandas as pd\n",
    "\n",
    "# Create the DataFrame from the predictions\n",
    "final_recommendations = pd.DataFrame([\n",
    "    {'user_id': 'U4', 'item_id': 'I4', 'predicted_rating': 4.00},\n",
    "    {'user_id': 'U4', 'item_id': 'I5', 'predicted_rating': 4.00},\n",
    "    {'user_id': 'U1', 'item_id': 'I4', 'predicted_rating': 4.00},\n",
    "    {'user_id': 'U1', 'item_id': 'I3', 'predicted_rating': 3.83},\n",
    "    {'user_id': 'U3', 'item_id': 'I5', 'predicted_rating': 4.00},\n",
    "    {'user_id': 'U3', 'item_id': 'I3', 'predicted_rating': 3.83},\n",
    "    {'user_id': 'U2', 'item_id': 'I2', 'predicted_rating': 3.83},\n",
    "    {'user_id': 'U2', 'item_id': 'I4', 'predicted_rating': 3.83},\n",
    "])\n",
    "\n",
    "# Now save to CSV\n",
    "final_recommendations.to_csv(\"final_recommendations.csv\", index=False)\n"
   ]
  },
  {
   "cell_type": "code",
   "execution_count": null,
   "id": "1de143dc-203f-4611-be42-f12ff67cda9d",
   "metadata": {},
   "outputs": [],
   "source": []
  }
 ],
 "metadata": {
  "kernelspec": {
   "display_name": "Python 3 (ipykernel)",
   "language": "python",
   "name": "python3"
  },
  "language_info": {
   "codemirror_mode": {
    "name": "ipython",
    "version": 3
   },
   "file_extension": ".py",
   "mimetype": "text/x-python",
   "name": "python",
   "nbconvert_exporter": "python",
   "pygments_lexer": "ipython3",
   "version": "3.12.5"
  }
 },
 "nbformat": 4,
 "nbformat_minor": 5
}
